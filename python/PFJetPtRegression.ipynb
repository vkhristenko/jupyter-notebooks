{
 "cells": [
  {
   "cell_type": "code",
   "execution_count": 1,
   "metadata": {},
   "outputs": [
    {
     "name": "stdout",
     "output_type": "stream",
     "text": [
      "setGPU: Setting GPU to: 1\n"
     ]
    }
   ],
   "source": [
    "import setGPU"
   ]
  },
  {
   "cell_type": "code",
   "execution_count": 2,
   "metadata": {},
   "outputs": [
    {
     "name": "stderr",
     "output_type": "stream",
     "text": [
      "Using TensorFlow backend.\n"
     ]
    },
    {
     "name": "stdout",
     "output_type": "stream",
     "text": [
      "using gpu memory fraction: 0.2\n"
     ]
    }
   ],
   "source": [
    "# limit GPU usage\n",
    "import sys\n",
    "import tensorflow as tf\n",
    "gpuFraction = 0.2\n",
    "gpu_options = tf.GPUOptions(per_process_gpu_memory_fraction=gpuFraction)\n",
    "sess = tf.Session(config=tf.ConfigProto(gpu_options=gpu_options))\n",
    "import keras\n",
    "from keras import backend as K\n",
    "K.set_session(sess)\n",
    "print('using gpu memory fraction: '+str(gpuFraction))"
   ]
  },
  {
   "cell_type": "code",
   "execution_count": 3,
   "metadata": {
    "collapsed": true
   },
   "outputs": [],
   "source": [
    "%matplotlib inline"
   ]
  },
  {
   "cell_type": "code",
   "execution_count": 4,
   "metadata": {
    "collapsed": true
   },
   "outputs": [],
   "source": [
    "import h5py\n",
    "import glob\n",
    "import numpy as np"
   ]
  },
  {
   "cell_type": "code",
   "execution_count": 7,
   "metadata": {},
   "outputs": [
    {
     "name": "stdout",
     "output_type": "stream",
     "text": [
      "········\n"
     ]
    },
    {
     "data": {
      "text/plain": [
       "0"
      ]
     },
     "execution_count": 7,
     "metadata": {},
     "output_type": "execute_result"
    }
   ],
   "source": [
    "# need afs password to read from eos\n",
    "import os\n",
    "import getpass\n",
    "os.system(\"echo %s| kinit\" %getpass.getpass())"
   ]
  },
  {
   "cell_type": "markdown",
   "metadata": {},
   "source": [
    "## MERGE SOME Z(nunu)+jet file"
   ]
  },
  {
   "cell_type": "code",
   "execution_count": 10,
   "metadata": {},
   "outputs": [
    {
     "name": "stdout",
     "output_type": "stream",
     "text": [
      "(3686, 20, 20, 2) (3686, 4) (3686, 4) (0,)\n",
      "(7418, 20, 20, 2) (7418, 4) (7418, 4) (0,)\n",
      "(11108, 20, 20, 2) (11108, 4) (11108, 4) (0,)\n",
      "(14868, 20, 20, 2) (14868, 4) (14868, 4) (0,)\n",
      "(18544, 20, 20, 2) (18544, 4) (18544, 4) (0,)\n",
      "(22263, 20, 20, 2) (22263, 4) (22263, 4) (0,)\n",
      "(25975, 20, 20, 2) (25975, 4) (25975, 4) (0,)\n",
      "(29703, 20, 20, 2) (29703, 4) (29703, 4) (0,)\n",
      "(33375, 20, 20, 2) (33375, 4) (33375, 4) (0,)\n",
      "(37071, 20, 20, 2) (37071, 4) (37071, 4) (0,)\n",
      "(40768, 20, 20, 2) (40768, 4) (40768, 4) (0,)\n",
      "(44437, 20, 20, 2) (44437, 4) (44437, 4) (0,)\n",
      "(48161, 20, 20, 2) (48161, 4) (48161, 4) (0,)\n",
      "(51896, 20, 20, 2) (51896, 4) (51896, 4) (0,)\n",
      "(55593, 20, 20, 2) (55593, 4) (55593, 4) (0,)\n",
      "(59297, 20, 20, 2) (59297, 4) (59297, 4) (0,)\n",
      "(62962, 20, 20, 2) (62962, 4) (62962, 4) (0,)\n",
      "(66761, 20, 20, 2) (66761, 4) (66761, 4) (0,)\n",
      "(70403, 20, 20, 2) (70403, 4) (70403, 4) (0,)\n",
      "(74062, 20, 20, 2) (74062, 4) (74062, 4) (0,)\n",
      "(77775, 20, 20, 2) (77775, 4) (77775, 4) (0,)\n",
      "(81546, 20, 20, 2) (81546, 4) (81546, 4) (0,)\n",
      "(82127, 20, 20, 2) (82127, 4) (82127, 4) (0,)\n",
      "(85859, 20, 20, 2) (85859, 4) (85859, 4) (0,)\n",
      "(89614, 20, 20, 2) (89614, 4) (89614, 4) (0,)\n",
      "(93346, 20, 20, 2) (93346, 4) (93346, 4) (0,)\n",
      "(97102, 20, 20, 2) (97102, 4) (97102, 4) (0,)\n",
      "(100811, 20, 20, 2) (100811, 4) (100811, 4) (0,)\n",
      "(104620, 20, 20, 2) (104620, 4) (104620, 4) (0,)\n",
      "(108244, 20, 20, 2) (108244, 4) (108244, 4) (0,)\n",
      "(111891, 20, 20, 2) (111891, 4) (111891, 4) (0,)\n",
      "(115638, 20, 20, 2) (115638, 4) (115638, 4) (0,)\n",
      "(119347, 20, 20, 2) (119347, 4) (119347, 4) (0,)\n",
      "(123137, 20, 20, 2) (123137, 4) (123137, 4) (0,)\n",
      "(126834, 20, 20, 2) (126834, 4) (126834, 4) (0,)\n",
      "(130606, 20, 20, 2) (130606, 4) (130606, 4) (0,)\n",
      "(134340, 20, 20, 2) (134340, 4) (134340, 4) (0,)\n",
      "(138067, 20, 20, 2) (138067, 4) (138067, 4) (0,)\n",
      "(141826, 20, 20, 2) (141826, 4) (141826, 4) (0,)\n",
      "(145524, 20, 20, 2) (145524, 4) (145524, 4) (0,)\n",
      "(149240, 20, 20, 2) (149240, 4) (149240, 4) (0,)\n",
      "(152923, 20, 20, 2) (152923, 4) (152923, 4) (0,)\n",
      "(156672, 20, 20, 2) (156672, 4) (156672, 4) (0,)\n",
      "(160385, 20, 20, 2) (160385, 4) (160385, 4) (0,)\n",
      "(164089, 20, 20, 2) (164089, 4) (164089, 4) (0,)\n",
      "(167824, 20, 20, 2) (167824, 4) (167824, 4) (0,)\n",
      "(171451, 20, 20, 2) (171451, 4) (171451, 4) (0,)\n",
      "(175141, 20, 20, 2) (175141, 4) (175141, 4) (0,)\n",
      "(178784, 20, 20, 2) (178784, 4) (178784, 4) (0,)\n",
      "(182586, 20, 20, 2) (182586, 4) (182586, 4) (0,)\n",
      "(186239, 20, 20, 2) (186239, 4) (186239, 4) (0,)\n",
      "(190001, 20, 20, 2) (190001, 4) (190001, 4) (0,)\n",
      "(193736, 20, 20, 2) (193736, 4) (193736, 4) (0,)\n",
      "(197512, 20, 20, 2) (197512, 4) (197512, 4) (0,)\n",
      "(201245, 20, 20, 2) (201245, 4) (201245, 4) (0,)\n",
      "(204928, 20, 20, 2) (204928, 4) (204928, 4) (0,)\n",
      "(208614, 20, 20, 2) (208614, 4) (208614, 4) (0,)\n",
      "(212352, 20, 20, 2) (212352, 4) (212352, 4) (0,)\n",
      "(216136, 20, 20, 2) (216136, 4) (216136, 4) (0,)\n",
      "(219855, 20, 20, 2) (219855, 4) (219855, 4) (0,)\n",
      "(223662, 20, 20, 2) (223662, 4) (223662, 4) (0,)\n",
      "(227352, 20, 20, 2) (227352, 4) (227352, 4) (0,)\n",
      "(231094, 20, 20, 2) (231094, 4) (231094, 4) (0,)\n",
      "(234770, 20, 20, 2) (234770, 4) (234770, 4) (0,)\n",
      "(238497, 20, 20, 2) (238497, 4) (238497, 4) (0,)\n",
      "(242200, 20, 20, 2) (242200, 4) (242200, 4) (0,)\n",
      "(245867, 20, 20, 2) (245867, 4) (245867, 4) (0,)\n",
      "(249582, 20, 20, 2) (249582, 4) (249582, 4) (0,)\n",
      "(253385, 20, 20, 2) (253385, 4) (253385, 4) (0,)\n",
      "(257131, 20, 20, 2) (257131, 4) (257131, 4) (0,)\n",
      "(260850, 20, 20, 2) (260850, 4) (260850, 4) (0,)\n",
      "(261337, 20, 20, 2) (261337, 4) (261337, 4) (0,)\n",
      "(262867, 20, 20, 2) (262867, 4) (262867, 4) (0,)\n",
      "(266517, 20, 20, 2) (266517, 4) (266517, 4) (0,)\n",
      "(270222, 20, 20, 2) (270222, 4) (270222, 4) (0,)\n",
      "(273938, 20, 20, 2) (273938, 4) (273938, 4) (0,)\n",
      "(277578, 20, 20, 2) (277578, 4) (277578, 4) (0,)\n",
      "(281323, 20, 20, 2) (281323, 4) (281323, 4) (0,)\n",
      "(285043, 20, 20, 2) (285043, 4) (285043, 4) (0,)\n",
      "(288819, 20, 20, 2) (288819, 4) (288819, 4) (0,)\n",
      "(292534, 20, 20, 2) (292534, 4) (292534, 4) (0,)\n",
      "(296196, 20, 20, 2) (296196, 4) (296196, 4) (0,)\n",
      "(297661, 20, 20, 2) (297661, 4) (297661, 4) (0,)\n",
      "(299158, 20, 20, 2) (299158, 4) (299158, 4) (0,)\n",
      "(302896, 20, 20, 2) (302896, 4) (302896, 4) (0,)\n",
      "(306500, 20, 20, 2) (306500, 4) (306500, 4) (0,)\n",
      "(310199, 20, 20, 2) (310199, 4) (310199, 4) (0,)\n",
      "(313914, 20, 20, 2) (313914, 4) (313914, 4) (0,)\n",
      "(317592, 20, 20, 2) (317592, 4) (317592, 4) (0,)\n",
      "(321321, 20, 20, 2) (321321, 4) (321321, 4) (0,)\n",
      "(325053, 20, 20, 2) (325053, 4) (325053, 4) (0,)\n",
      "(325663, 20, 20, 2) (325663, 4) (325663, 4) (0,)\n",
      "(329344, 20, 20, 2) (329344, 4) (329344, 4) (0,)\n",
      "(333103, 20, 20, 2) (333103, 4) (333103, 4) (0,)\n",
      "(336773, 20, 20, 2) (336773, 4) (336773, 4) (0,)\n",
      "(340477, 20, 20, 2) (340477, 4) (340477, 4) (0,)\n",
      "(344192, 20, 20, 2) (344192, 4) (344192, 4) (0,)\n",
      "(347943, 20, 20, 2) (347943, 4) (347943, 4) (0,)\n",
      "(351771, 20, 20, 2) (351771, 4) (351771, 4) (0,)\n",
      "(355501, 20, 20, 2) (355501, 4) (355501, 4) (0,)\n",
      "(359144, 20, 20, 2) (359144, 4) (359144, 4) (0,)\n",
      "(362823, 20, 20, 2) (362823, 4) (362823, 4) (0,)\n",
      "(366531, 20, 20, 2) (366531, 4) (366531, 4) (0,)\n",
      "(370237, 20, 20, 2) (370237, 4) (370237, 4) (0,)\n",
      "(373887, 20, 20, 2) (373887, 4) (373887, 4) (0,)\n",
      "(377559, 20, 20, 2) (377559, 4) (377559, 4) (0,)\n",
      "(381263, 20, 20, 2) (381263, 4) (381263, 4) (0,)\n",
      "(384978, 20, 20, 2) (384978, 4) (384978, 4) (0,)\n",
      "(385836, 20, 20, 2) (385836, 4) (385836, 4) (0,)\n",
      "(387204, 20, 20, 2) (387204, 4) (387204, 4) (0,)\n"
     ]
    }
   ],
   "source": [
    "features = np.array([])\n",
    "truth = np.array([])\n",
    "pfDelphes = np.array([])\n",
    "raw = np.array([])\n",
    "first = True\n",
    "os.system(\"rm ../DATA/ZtoNuNu_lepFilter_13TeV_JetImage.h5\")\n",
    "for fileName in glob.glob(\"/eos/cms/store/cmst3/group/dehep/TOPGEN/Delphes/ZtoNuNu_lepFilter_13TeV/*13TeV*1*jetImage.h5\"):\n",
    "    if fileName.find(\"_SMEARED\") != -1: continue\n",
    "    # smeared file\n",
    "    myFile = h5py.File(fileName)\n",
    "    #mypfreco = myFile.get('jetMomenta')\n",
    "    #pfDelphes = np.concatenate((pfDelphes,mypfreco), axis=0) if pfDelphes.size else mypfreco\n",
    "    # unsmeared jet\n",
    "    #myFile = h5py.File(fileName.replace(\"_SMEARED\",\"\"))\n",
    "    mytruth = myFile.get('jetMomenta')\n",
    "    myraw = myFile.get('rawJetMomenta')\n",
    "    myfeatures = myFile.get('jetImages')    \n",
    "    truth = np.concatenate((truth,mytruth), axis=0) if truth.size else mytruth\n",
    "    raw = np.concatenate((raw,myraw), axis=0) if raw.size else myraw\n",
    "    features = np.concatenate((features,myfeatures), axis=0) if features.size else myfeatures\n",
    "#print(features.shape, truth.shape, raw.shape, pfDelphes.shape)\n",
    "fileOut = h5py.File(\"../DATA/ZtoNuNu_lepFilter_13TeV_JetImage.h5\", \"w\")\n",
    "#fileOut.create_dataset('jetSmearedDelphes', data=pfDelphes,compression='gzip')\n",
    "fileOut.create_dataset('jetMomenta', data=truth,compression='gzip')\n",
    "fileOut.create_dataset('rawJetMomenta', data=raw,compression='gzip')\n",
    "fileOut.create_dataset('jetImages', data=features,compression='gzip')\n",
    "fileOut.close()"
   ]
  },
  {
   "cell_type": "code",
   "execution_count": 11,
   "metadata": {
    "collapsed": true
   },
   "outputs": [],
   "source": [
    "# delete datasets\n",
    "del truth, raw, features\n",
    "del mytruth, myraw, myfeatures"
   ]
  },
  {
   "cell_type": "code",
   "execution_count": 12,
   "metadata": {
    "collapsed": true
   },
   "outputs": [],
   "source": [
    "# open the new dataset\n",
    "fileIn = h5py.File(\"../DATA/ZtoNuNu_lepFilter_13TeV_JetImage.h5\")\n",
    "#delphesPt = fileIn.get(\"jetSmearedDelphes\")\n",
    "truth = fileIn.get(\"jetMomenta\")\n",
    "raw = fileIn.get(\"rawJetMomenta\")\n",
    "features = fileIn.get(\"jetImages\")"
   ]
  },
  {
   "cell_type": "markdown",
   "metadata": {},
   "source": [
    "# show average image"
   ]
  },
  {
   "cell_type": "code",
   "execution_count": 13,
   "metadata": {},
   "outputs": [
    {
     "name": "stdout",
     "output_type": "stream",
     "text": [
      "(20, 20, 2)\n"
     ]
    }
   ],
   "source": [
    "sumImage = np.sum(features,axis=0)\n",
    "print(sumImage.shape)"
   ]
  },
  {
   "cell_type": "code",
   "execution_count": 14,
   "metadata": {
    "collapsed": true
   },
   "outputs": [],
   "source": [
    "caloImage = sumImage[:,:,0]\n",
    "trkImage = sumImage[:,:,1]"
   ]
  },
  {
   "cell_type": "code",
   "execution_count": 15,
   "metadata": {},
   "outputs": [
    {
     "data": {
      "text/plain": [
       "<matplotlib.colorbar.Colorbar at 0x7f3a617411d0>"
      ]
     },
     "execution_count": 15,
     "metadata": {},
     "output_type": "execute_result"
    },
    {
     "data": {
      "image/png": "[encoded data removed]",
      "text/plain": [
       "<matplotlib.figure.Figure at 0x7f3a61862c88>"
      ]
     },
     "metadata": {},
     "output_type": "display_data"
    }
   ],
   "source": [
    "import matplotlib.pyplot as plt\n",
    "plt.imshow(caloImage/caloImage.shape[0], extent=[0, 10, 0, 10], origin='lower')\n",
    "plt.colorbar()"
   ]
  },
  {
   "cell_type": "code",
   "execution_count": 16,
   "metadata": {},
   "outputs": [
    {
     "data": {
      "text/plain": [
       "<matplotlib.colorbar.Colorbar at 0x7f3a47dccb38>"
      ]
     },
     "execution_count": 16,
     "metadata": {},
     "output_type": "execute_result"
    },
    {
     "data": {
      "image/png": "[encoded data removed]",
      "text/plain": [
       "<matplotlib.figure.Figure at 0x7f3a617e1f98>"
      ]
     },
     "metadata": {},
     "output_type": "display_data"
    }
   ],
   "source": [
    "plt.imshow(trkImage/trkImage.shape[0], extent=[0, 10, 0, 10], origin='lower')\n",
    "plt.colorbar()"
   ]
  },
  {
   "cell_type": "markdown",
   "metadata": {},
   "source": [
    "# Prepare train and test samples\n",
    "\n"
   ]
  },
  {
   "cell_type": "code",
   "execution_count": 17,
   "metadata": {},
   "outputs": [
    {
     "name": "stdout",
     "output_type": "stream",
     "text": [
      "(387204, 4)\n"
     ]
    }
   ],
   "source": [
    "print(raw.shape)"
   ]
  },
  {
   "cell_type": "code",
   "execution_count": 18,
   "metadata": {},
   "outputs": [
    {
     "name": "stdout",
     "output_type": "stream",
     "text": [
      "MinMaxScaler(copy=True, feature_range=(0, 1))\n"
     ]
    }
   ],
   "source": [
    "from sklearn.preprocessing import MinMaxScaler\n",
    "# normalize raw inputs and outputs between 0 and 1\n",
    "scaler = MinMaxScaler()\n",
    "print(scaler.fit(raw))\n",
    "maxVal = scaler.data_max_\n",
    "minVal = scaler.data_min_\n",
    "raw = (raw-minVal)/(maxVal-minVal)\n",
    "truth = (truth-minVal)/(maxVal-minVal)"
   ]
  },
  {
   "cell_type": "code",
   "execution_count": 22,
   "metadata": {},
   "outputs": [
    {
     "name": "stdout",
     "output_type": "stream",
     "text": [
      "(387204, 1)\n"
     ]
    }
   ],
   "source": [
    "# we only care about the jet pT. So we forget about eta and phi\n",
    "truth = truth[:,0]\n",
    "truth = np.reshape(truth, (truth.shape[0], 1))\n",
    "#delphesPt = delphesPt[:,0]\n",
    "#delphesPt = np.reshape(delphesPt, (delphesPt.shape[0], 1))\n",
    "#print(truth.shape, delphesPt.shape)\n",
    "print(truth.shape)"
   ]
  },
  {
   "cell_type": "code",
   "execution_count": 23,
   "metadata": {},
   "outputs": [],
   "source": [
    "iSplit = int(0.7*truth.shape[0])\n",
    "x_image_train = features[:iSplit, :, :, :]\n",
    "x_image_test = features[iSplit:, :, :, :]\n",
    "x_raw_train = raw[:iSplit, :]\n",
    "x_raw_test = raw[iSplit:, :]\n",
    "y_train = truth[:iSplit, :]\n",
    "y_test = truth[iSplit:, :]"
   ]
  },
  {
   "cell_type": "code",
   "execution_count": 24,
   "metadata": {},
   "outputs": [
    {
     "name": "stdout",
     "output_type": "stream",
     "text": [
      "(271042, 20, 20, 2)\n"
     ]
    }
   ],
   "source": [
    "print(x_image_train.shape)"
   ]
  },
  {
   "cell_type": "code",
   "execution_count": 25,
   "metadata": {},
   "outputs": [],
   "source": [
    "x_image_test = np.reshape(x_image_test, (x_image_test.shape[0], x_image_test.shape[1],\n",
    "                                         x_image_test.shape[2], x_image_test.shape[3], 1))\n",
    "x_image_train = np.reshape(x_image_train, (x_image_train.shape[0], x_image_train.shape[1],\n",
    "                                           x_image_train.shape[2], x_image_train.shape[3], 1))"
   ]
  },
  {
   "cell_type": "code",
   "execution_count": 26,
   "metadata": {},
   "outputs": [
    {
     "name": "stdout",
     "output_type": "stream",
     "text": [
      "(116162, 4) (271042, 4)\n"
     ]
    }
   ],
   "source": [
    "print(x_raw_test.shape, x_raw_train.shape)"
   ]
  },
  {
   "cell_type": "markdown",
   "metadata": {},
   "source": [
    "# build the model"
   ]
  },
  {
   "cell_type": "code",
   "execution_count": 27,
   "metadata": {},
   "outputs": [],
   "source": [
    "# keras imports\n",
    "from keras.models import Model\n",
    "from keras.layers import Dense, Input, Conv2D, Conv3D, Dropout, Flatten, Concatenate, Reshape, BatchNormalization\n",
    "from keras.layers import MaxPooling2D, MaxPooling3D\n",
    "from keras.utils import plot_model\n",
    "from keras import regularizers\n",
    "from keras import backend as K\n",
    "from keras import metrics\n",
    "from keras.callbacks import EarlyStopping, ReduceLROnPlateau, TerminateOnNaN"
   ]
  },
  {
   "cell_type": "code",
   "execution_count": 28,
   "metadata": {
    "collapsed": true
   },
   "outputs": [],
   "source": [
    "batch_size = 128\n",
    "img_rows, img_cols = 20, 20\n",
    "nImages = 2"
   ]
  },
  {
   "cell_type": "code",
   "execution_count": 49,
   "metadata": {},
   "outputs": [
    {
     "name": "stdout",
     "output_type": "stream",
     "text": [
      "(?, 18, 18, 1, 5)\n"
     ]
    },
    {
     "name": "stderr",
     "output_type": "stream",
     "text": [
      "/opt/anaconda3/lib/python3.6/site-packages/ipykernel/__main__.py:24: UserWarning: Update your `Model` call to the Keras 2 API: `Model(inputs=(<tf.Tenso..., outputs=Tensor(\"de...)`\n"
     ]
    }
   ],
   "source": [
    "image_shape = (img_rows, img_cols, nImages, 1)\n",
    "####\n",
    "# this is the raw pT\n",
    "InputRaw = Input(shape=(4,))\n",
    "x2 = BatchNormalization()(InputRaw)\n",
    "# this is the input image\n",
    "inputImage = Input(shape=(image_shape))\n",
    "x = BatchNormalization()(inputImage)\n",
    "x = Conv3D(5, kernel_size=(3, 3, 2), data_format=\"channels_last\", strides=(1, 1, 1), activation='relu', input_shape=image_shape)(x)\n",
    "x = Dropout(0.25)(x)\n",
    "#x = MaxPooling3D(pool_size=(2, 2, 1))(x)\n",
    "# from 3D to 2D\n",
    "print(x.shape)\n",
    "x = Reshape((18, 18, 5), input_shape=(18, 18, 1, 5))(x)\n",
    "x = Conv2D(1, kernel_size=(3, 3), activation='relu', input_shape=image_shape)(x)\n",
    "x = Dropout(0.25)(x)\n",
    "#x = MaxPooling2D(pool_size=(2, 2))(x)\n",
    "x = Flatten()(x)\n",
    "dense = Concatenate(axis=1)([x, x2])\n",
    "dense = Dense(10, activation='relu')(dense)\n",
    "dense = Dropout(0.25)(dense)\n",
    "output = Dense(1, activation='linear')(dense)\n",
    "####\n",
    "model = Model(input=(InputRaw,inputImage), output=output)"
   ]
  },
  {
   "cell_type": "code",
   "execution_count": 50,
   "metadata": {},
   "outputs": [
    {
     "name": "stdout",
     "output_type": "stream",
     "text": [
      "____________________________________________________________________________________________________\n",
      "Layer (type)                     Output Shape          Param #     Connected to                     \n",
      "====================================================================================================\n",
      "input_4 (InputLayer)             (None, 20, 20, 2, 1)  0                                            \n",
      "____________________________________________________________________________________________________\n",
      "batch_normalization_4 (BatchNorm (None, 20, 20, 2, 1)  4           input_4[0][0]                    \n",
      "____________________________________________________________________________________________________\n",
      "conv3d_2 (Conv3D)                (None, 18, 18, 1, 5)  95          batch_normalization_4[0][0]      \n",
      "____________________________________________________________________________________________________\n",
      "dropout_4 (Dropout)              (None, 18, 18, 1, 5)  0           conv3d_2[0][0]                   \n",
      "____________________________________________________________________________________________________\n",
      "reshape_2 (Reshape)              (None, 18, 18, 5)     0           dropout_4[0][0]                  \n",
      "____________________________________________________________________________________________________\n",
      "conv2d_2 (Conv2D)                (None, 16, 16, 1)     46          reshape_2[0][0]                  \n",
      "____________________________________________________________________________________________________\n",
      "dropout_5 (Dropout)              (None, 16, 16, 1)     0           conv2d_2[0][0]                   \n",
      "____________________________________________________________________________________________________\n",
      "input_3 (InputLayer)             (None, 4)             0                                            \n",
      "____________________________________________________________________________________________________\n",
      "flatten_2 (Flatten)              (None, 256)           0           dropout_5[0][0]                  \n",
      "____________________________________________________________________________________________________\n",
      "batch_normalization_3 (BatchNorm (None, 4)             16          input_3[0][0]                    \n",
      "____________________________________________________________________________________________________\n",
      "concatenate_2 (Concatenate)      (None, 260)           0           flatten_2[0][0]                  \n",
      "                                                                   batch_normalization_3[0][0]      \n",
      "____________________________________________________________________________________________________\n",
      "dense_3 (Dense)                  (None, 10)            2610        concatenate_2[0][0]              \n",
      "____________________________________________________________________________________________________\n",
      "dropout_6 (Dropout)              (None, 10)            0           dense_3[0][0]                    \n",
      "____________________________________________________________________________________________________\n",
      "dense_4 (Dense)                  (None, 1)             11          dropout_6[0][0]                  \n",
      "====================================================================================================\n",
      "Total params: 2,782\n",
      "Trainable params: 2,772\n",
      "Non-trainable params: 10\n",
      "____________________________________________________________________________________________________\n"
     ]
    }
   ],
   "source": [
    "model.compile(loss='mse', optimizer='adam')\n",
    "model.summary()\n",
    "# plot graph\n",
    "# plot_model(model)"
   ]
  },
  {
   "cell_type": "code",
   "execution_count": 51,
   "metadata": {},
   "outputs": [
    {
     "name": "stdout",
     "output_type": "stream",
     "text": [
      "Train on 271042 samples, validate on 116162 samples\n",
      "Epoch 1/150\n",
      "28s - loss: 0.0114 - val_loss: 5.4845e-04\n",
      "Epoch 2/150\n",
      "28s - loss: 5.4932e-04 - val_loss: 4.1603e-04\n",
      "Epoch 3/150\n",
      "28s - loss: 3.9751e-04 - val_loss: 1.9565e-04\n",
      "Epoch 4/150\n",
      "28s - loss: 2.9752e-04 - val_loss: 1.6779e-04\n",
      "Epoch 5/150\n",
      "28s - loss: 2.4486e-04 - val_loss: 1.3904e-04\n",
      "Epoch 6/150\n",
      "\n",
      "Epoch 00005: reducing learning rate to 0.00010000000474974513.\n",
      "28s - loss: 2.0480e-04 - val_loss: 1.2468e-04\n",
      "Epoch 7/150\n",
      "28s - loss: 1.8633e-04 - val_loss: 1.2057e-04\n",
      "Epoch 8/150\n",
      "\n",
      "Epoch 00007: reducing learning rate to 1.0000000474974514e-05.\n",
      "28s - loss: 1.8128e-04 - val_loss: 1.1755e-04\n",
      "Epoch 9/150\n",
      "28s - loss: 1.8031e-04 - val_loss: 1.1839e-04\n",
      "Epoch 10/150\n",
      "\n",
      "Epoch 00009: reducing learning rate to 1.0000000656873453e-06.\n",
      "28s - loss: 1.8106e-04 - val_loss: 1.1679e-04\n",
      "Epoch 11/150\n",
      "28s - loss: 1.7887e-04 - val_loss: 1.1827e-04\n",
      "Epoch 12/150\n",
      "\n",
      "Epoch 00011: reducing learning rate to 1.0000001111620805e-07.\n",
      "28s - loss: 1.8035e-04 - val_loss: 1.1705e-04\n",
      "Epoch 13/150\n",
      "27s - loss: 1.8098e-04 - val_loss: 1.1782e-04\n",
      "Epoch 14/150\n",
      "\n",
      "Epoch 00013: reducing learning rate to 1.000000082740371e-08.\n",
      "27s - loss: 1.8142e-04 - val_loss: 1.1547e-04\n",
      "Epoch 15/150\n",
      "27s - loss: 1.7895e-04 - val_loss: 1.1666e-04\n",
      "Epoch 16/150\n",
      "\n",
      "Epoch 00015: reducing learning rate to 1.000000082740371e-09.\n",
      "27s - loss: 1.7903e-04 - val_loss: 1.1761e-04\n",
      "Epoch 17/150\n",
      "27s - loss: 1.7963e-04 - val_loss: 1.1869e-04\n",
      "Epoch 18/150\n",
      "\n",
      "Epoch 00017: reducing learning rate to 1.000000082740371e-10.\n",
      "27s - loss: 1.8219e-04 - val_loss: 1.1709e-04\n",
      "Epoch 19/150\n",
      "27s - loss: 1.8156e-04 - val_loss: 1.1737e-04\n",
      "Epoch 20/150\n",
      "\n",
      "Epoch 00019: reducing learning rate to 1.000000082740371e-11.\n",
      "27s - loss: 1.7847e-04 - val_loss: 1.1840e-04\n",
      "Epoch 21/150\n",
      "27s - loss: 1.8109e-04 - val_loss: 1.1710e-04\n",
      "Epoch 22/150\n",
      "\n",
      "Epoch 00021: reducing learning rate to 1.000000082740371e-12.\n",
      "27s - loss: 1.8243e-04 - val_loss: 1.1845e-04\n",
      "Epoch 23/150\n",
      "27s - loss: 1.7950e-04 - val_loss: 1.1627e-04\n",
      "Epoch 24/150\n",
      "\n",
      "Epoch 00023: reducing learning rate to 1.0000001044244145e-13.\n",
      "27s - loss: 1.8267e-04 - val_loss: 1.1725e-04\n",
      "Epoch 25/150\n",
      "27s - loss: 1.7990e-04 - val_loss: 1.1672e-04\n",
      "Epoch 00024: early stopping\n"
     ]
    }
   ],
   "source": [
    "# train \n",
    "history = model.fit([x_raw_train, x_image_train], y_train, epochs=150, batch_size=batch_size, verbose = 2,\n",
    "                validation_data=([x_raw_test, x_image_test], y_test),\n",
    "                callbacks = [\n",
    "                EarlyStopping(monitor='val_loss', patience=10, verbose=1),\n",
    "                ReduceLROnPlateau(monitor='val_loss', factor=0.1, patience=2, verbose=1),\n",
    "                TerminateOnNaN()])"
   ]
  },
  {
   "cell_type": "markdown",
   "metadata": {},
   "source": [
    "# Loss at early stop:\n",
    "- Adam with mse: \n",
    "       Epoch 28/150 / loss: 8.5737e-05 - val_loss: 5.9542e-05\n",
    "       CNN MEAN: -0.221108 / CNN RMS: 0.689300\n",
    "       \n",
    "- Adam with logcosh: \n",
    "        Epoch 40/150 / loss: 4.2010e-05 - val_loss: 2.3856e-05\n",
    "        CNN MEAN: -0.225471 / CNN RMS: 0.590492\n",
    "\n",
    "- Adadelta with mse: \n",
    "        Epoch 24/150 / loss: 9.2832e-05 - val_loss: 6.1209e-05\n",
    "        CNN MEAN: -0.230359 CNN RMS: 0.685298\n"
   ]
  },
  {
   "cell_type": "code",
   "execution_count": 32,
   "metadata": {},
   "outputs": [
    {
     "data": {
      "image/png": "[encoded data removed]",
      "text/plain": [
       "<matplotlib.figure.Figure at 0x7f3a47b87470>"
      ]
     },
     "metadata": {},
     "output_type": "display_data"
    }
   ],
   "source": [
    "# plot training history\n",
    "plt.plot(history.history['loss'])\n",
    "plt.plot(history.history['val_loss'])\n",
    "plt.yscale('log')\n",
    "plt.title('model loss')\n",
    "plt.ylabel('loss')\n",
    "plt.xlabel('epoch')\n",
    "plt.legend(['train', 'test'], loc='upper left')\n",
    "plt.show()\n",
    "#"
   ]
  },
  {
   "cell_type": "code",
   "execution_count": 33,
   "metadata": {},
   "outputs": [],
   "source": [
    "ptPredict = model.predict([x_raw_test, x_image_test])\n",
    "ptPredict = np.reshape(ptPredict, (ptPredict.shape[0],))"
   ]
  },
  {
   "cell_type": "code",
   "execution_count": 35,
   "metadata": {},
   "outputs": [],
   "source": [
    "#put pT back in its range\n",
    "#delphesPt = minVal[0] + np.reshape(delphesPt, (delphesPt.shape[0],))*(maxVal[0]-minVal[0])\n",
    "pTraw = minVal[0] + x_raw_test[:,0]*(maxVal[0]-minVal[0])\n",
    "pTreco = minVal[0] + np.reshape(y_test, (y_test.shape[0],))*(maxVal[0]-minVal[0])\n",
    "ptPredict = minVal[0] + ptPredict*(maxVal[0]-minVal[0])"
   ]
  },
  {
   "cell_type": "code",
   "execution_count": 36,
   "metadata": {},
   "outputs": [
    {
     "data": {
      "image/png": "[encoded data removed]",
      "text/plain": [
       "<matplotlib.figure.Figure at 0x7f3991c2fdd8>"
      ]
     },
     "metadata": {},
     "output_type": "display_data"
    }
   ],
   "source": [
    "from matplotlib.colors import LogNorm\n",
    "# pT resolution before regression\n",
    "plt.hist2d(pTreco, pTraw, bins=80, norm=LogNorm())\n",
    "plt.xlim((0.,700.))\n",
    "plt.ylim((0.,700.))\n",
    "plt.ylabel('RawJet pT (GeV)')\n",
    "plt.xlabel('PFJet pT (GeV)')\n",
    "plt.xlabel('Number of events')\n",
    "plt.colorbar()\n",
    "plt.show()"
   ]
  },
  {
   "cell_type": "code",
   "execution_count": 37,
   "metadata": {},
   "outputs": [
    {
     "data": {
      "image/png": "[encoded data removed]",
      "text/plain": [
       "<matplotlib.figure.Figure at 0x7f399198e2e8>"
      ]
     },
     "metadata": {},
     "output_type": "display_data"
    }
   ],
   "source": [
    "# pT resolution after regression\n",
    "plt.hist2d(pTreco, ptPredict, bins=80, norm=LogNorm())\n",
    "plt.xlim((0.,700.))\n",
    "plt.ylim((0.,700.))\n",
    "plt.ylabel('CNNJet pT (GeV)')\n",
    "plt.xlabel('PFJet pT (GeV)')\n",
    "plt.xlabel('Number of events')\n",
    "plt.colorbar()\n",
    "plt.show()"
   ]
  },
  {
   "cell_type": "code",
   "execution_count": null,
   "metadata": {},
   "outputs": [],
   "source": [
    "## pT resolution @trigger from Delphes\n",
    "#plt.hist2d(pTreco, delphesPt, bins=80, norm=LogNorm())\n",
    "#plt.xlim((0.,700.))\n",
    "#plt.ylim((0.,700.))\n",
    "#plt.ylabel('Trigger PFJet pT (GeV)')\n",
    "#plt.xlabel('PFJet pT (GeV)')\n",
    "#plt.xlabel('Number of events')\n",
    "#plt.colorbar()\n",
    "#plt.show()"
   ]
  },
  {
   "cell_type": "code",
   "execution_count": 38,
   "metadata": {},
   "outputs": [
    {
     "name": "stdout",
     "output_type": "stream",
     "text": [
      "(116162,) (116162,)\n"
     ]
    }
   ],
   "source": [
    "print(pTreco.shape, ptPredict.shape)"
   ]
  },
  {
   "cell_type": "code",
   "execution_count": 40,
   "metadata": {},
   "outputs": [
    {
     "data": {
      "image/png": "[encoded data removed]",
      "text/plain": [
       "<matplotlib.figure.Figure at 0x7f3991c61908>"
      ]
     },
     "metadata": {},
     "output_type": "display_data"
    },
    {
     "name": "stdout",
     "output_type": "stream",
     "text": [
      "RAW MEAN: -0.298697\n",
      "RAW RMS: 0.465952\n",
      "-------------------\n",
      "CNN MEAN: -0.079852\n",
      "CNN RMS: 0.258184\n"
     ]
    }
   ],
   "source": [
    "plt.xlim(-7., 3.)\n",
    "# histtype = 'step'\n",
    "resRaw = np.nan_to_num((pTreco-pTraw)/pTreco)\n",
    "resCNN = np.nan_to_num((pTreco-ptPredict)/pTreco)\n",
    "#resDelphes = np.nan_to_num((pTreco-delphesPt)/pTreco)\n",
    "plt.hist(resRaw, bins = 500, normed=1, alpha = 0.8)\n",
    "plt.hist(resCNN, bins = 500, normed=1, alpha = 0.8)\n",
    "#plt.hist(resDelphes, bins = 500, normed=1, alpha = 0.8)\n",
    "plt.ylabel('Number of events')\n",
    "plt.xlabel('$\\Delta p_T/p_T$')\n",
    "#plt.legend(['Raw Jet','CNN Regression', 'Trigger PFJet'], loc='upper left')\n",
    "plt.legend(['Raw Jet','CNN Regression'], loc='upper left')\n",
    "plt.show()\n",
    "from scipy.stats import norm\n",
    "(mu, sigma) = norm.fit(resRaw)\n",
    "print(\"RAW MEAN: %f\" %mu)\n",
    "print(\"RAW RMS: %f\" %sigma)\n",
    "print(\"-------------------\")\n",
    "(mu, sigma) = norm.fit(resCNN)\n",
    "print(\"CNN MEAN: %f\" %mu)\n",
    "print(\"CNN RMS: %f\" %sigma)\n",
    "#(mu, sigma) = norm.fit(resDelphes)\n",
    "#print(\"Trigger PFJet MEAN: %f\" %mu)\n",
    "#print(\"Trigger PFJet RMS: %f\" %sigma)"
   ]
  },
  {
   "cell_type": "code",
   "execution_count": 41,
   "metadata": {},
   "outputs": [
    {
     "data": {
      "image/png": "[encoded data removed]",
      "text/plain": [
       "<matplotlib.figure.Figure at 0x7f3990acd828>"
      ]
     },
     "metadata": {},
     "output_type": "display_data"
    }
   ],
   "source": [
    "# plot pT spectra\n",
    "plt.xlim(15., 500.)\n",
    "countsDEN, binsDEN, barsDEN = plt.hist(pTreco, bins = 300, histtype = 'step')\n",
    "countsNUM, binsNUM, barsNUM = plt.hist(ptPredict, bins = 300, histtype = 'step')\n",
    "countsNUMRAW, binsNUMRAW, barsNUMRAW = plt.hist(pTraw, bins = 300, histtype = 'step')\n",
    "#countsDelphes, binsDelphes, barsDelphes = plt.hist(delphesPt, bins = 300, histtype = 'step')\n",
    "plt.ylabel('Number of events')\n",
    "plt.xlabel('Jet $p_T$ (GeV)')\n",
    "#plt.legend(['PFJet','CNNJet','RAWJet', 'Trigger PFJet'], loc='upper right')\n",
    "plt.legend(['PFJet','CNNJet','RAWJet'], loc='upper right')\n",
    "plt.show()"
   ]
  },
  {
   "cell_type": "code",
   "execution_count": 42,
   "metadata": {},
   "outputs": [],
   "source": [
    "bins = np.array(binsNUM)\n",
    "bins = bins+(bins[1]-bins[0])/2.\n",
    "bins = bins[:-1]"
   ]
  },
  {
   "cell_type": "code",
   "execution_count": 43,
   "metadata": {},
   "outputs": [
    {
     "name": "stderr",
     "output_type": "stream",
     "text": [
      "/opt/anaconda3/lib/python3.6/site-packages/scipy/stats/_continuous_distns.py:184: RuntimeWarning: Mean of empty slice.\n",
      "  loc = data.mean()\n",
      "/opt/anaconda3/lib/python3.6/site-packages/numpy/core/_methods.py:80: RuntimeWarning: invalid value encountered in double_scalars\n",
      "  ret = ret.dtype.type(ret / rcount)\n",
      "/opt/anaconda3/lib/python3.6/site-packages/scipy/stats/_continuous_distns.py:189: RuntimeWarning: Mean of empty slice.\n",
      "  scale = np.sqrt(((data - loc)**2).mean())\n"
     ]
    },
    {
     "data": {
      "image/png": "[encoded data removed]",
      "text/plain": [
       "<matplotlib.figure.Figure at 0x7f3990a2ab00>"
      ]
     },
     "metadata": {},
     "output_type": "display_data"
    }
   ],
   "source": [
    "# build the profile plots for resolution vs pT [BY HAND!!!!]\n",
    "binEdge = np.array(binsNUM)\n",
    "meanRAW = []\n",
    "errRAW = []\n",
    "meanCNN = []\n",
    "errCNN = []\n",
    "for i in range(len(binEdge)-1):\n",
    "    inBin = (pTreco >= binEdge[i]) * (pTreco < binEdge[i+1])\n",
    "    populationRAW = resRaw[inBin]\n",
    "    populationCNN = resCNN[inBin]\n",
    "    #\n",
    "    (mu, sigma) = norm.fit(populationRAW)\n",
    "    meanRAW.append(mu)\n",
    "    errRAW.append(sigma)\n",
    "    #\n",
    "    (mu, sigma) = norm.fit(populationCNN)\n",
    "    meanCNN.append(mu)\n",
    "    errCNN.append(sigma)\n",
    "errRAW = np.array(errRAW)\n",
    "errCNN = np.array(errCNN)\n",
    "# resolution vs pT\n",
    "plt.xlim(15., 200.)\n",
    "# LOG SCALE\n",
    "plt.yscale('log')\n",
    "plt.ylim(0.1, 10.)\n",
    "# LINEAR\n",
    "#plt.ylim(0., 5.)\n",
    "# histtype = 'step'\n",
    "plt.plot(bins, errRAW,\"o\")\n",
    "plt.plot(bins, errCNN, \"o\")\n",
    "plt.ylabel('$\\Delta p_T/p_T$')\n",
    "plt.xlabel('PFJet $p_T$')\n",
    "plt.legend(['Raw Resolution','CNN Regression', ], loc='upper right')\n",
    "plt.show()"
   ]
  },
  {
   "cell_type": "code",
   "execution_count": 44,
   "metadata": {},
   "outputs": [
    {
     "data": {
      "image/png": "[encoded data removed]",
      "text/plain": [
       "<matplotlib.figure.Figure at 0x7f39908d2438>"
      ]
     },
     "metadata": {},
     "output_type": "display_data"
    }
   ],
   "source": [
    "# now build ingredients to the turn-on curves\n",
    "plt.xlim(15., 100.)\n",
    "countsDEN, binsDEN, barsDEN = plt.hist(pTreco, bins = 1000, histtype = 'step')\n",
    "countsNUM, binsNUM, barsNUM = plt.hist(pTreco[ptPredict>40.], bins = 1000, histtype = 'step')\n",
    "countsNUMRAW, binsNUMRAW, barsNUMRAW = plt.hist(pTreco[pTraw>65.], bins = 1000, histtype = 'step')\n",
    "plt.ylabel('Number of events')\n",
    "plt.xlabel('Jet $p_T$ (GeV)')\n",
    "plt.legend(['PF Resolution','CNN Resolution','RAW Resolution'], loc='upper right')\n",
    "plt.show()"
   ]
  },
  {
   "cell_type": "code",
   "execution_count": 45,
   "metadata": {
    "collapsed": true
   },
   "outputs": [],
   "source": [
    "bins = np.array(binsNUM)\n",
    "bins = bins+(bins[1]-bins[0])/2.\n",
    "bins = bins[:-1]"
   ]
  },
  {
   "cell_type": "code",
   "execution_count": 46,
   "metadata": {
    "collapsed": true
   },
   "outputs": [],
   "source": [
    "countsNUM = np.array(countsNUM)\n",
    "countsDEN = np.array(countsDEN)\n",
    "countsNUMRAW = np.array(countsNUMRAW)"
   ]
  },
  {
   "cell_type": "code",
   "execution_count": 47,
   "metadata": {},
   "outputs": [
    {
     "name": "stderr",
     "output_type": "stream",
     "text": [
      "/opt/anaconda3/lib/python3.6/site-packages/ipykernel/__main__.py:2: RuntimeWarning: divide by zero encountered in true_divide\n",
      "  from ipykernel import kernelapp as app\n",
      "/opt/anaconda3/lib/python3.6/site-packages/ipykernel/__main__.py:2: RuntimeWarning: invalid value encountered in true_divide\n",
      "  from ipykernel import kernelapp as app\n",
      "/opt/anaconda3/lib/python3.6/site-packages/ipykernel/__main__.py:5: RuntimeWarning: divide by zero encountered in true_divide\n",
      "/opt/anaconda3/lib/python3.6/site-packages/ipykernel/__main__.py:5: RuntimeWarning: invalid value encountered in true_divide\n",
      "/opt/anaconda3/lib/python3.6/site-packages/matplotlib/axes/_base.py:2309: RuntimeWarning: overflow encountered in double_scalars\n",
      "  x1t += delta\n"
     ]
    },
    {
     "data": {
      "image/png": "[encoded data removed]",
      "text/plain": [
       "<matplotlib.figure.Figure at 0x7f399090f550>"
      ]
     },
     "metadata": {},
     "output_type": "display_data"
    }
   ],
   "source": [
    "# build efficiencies \n",
    "eff_CNN = np.nan_to_num(countsNUM/countsDEN)\n",
    "#err_CNN = np.nan_to_num(np.sqrt(eff_CNN*(1.-eff_CNN)/countsDEN))\n",
    "#\n",
    "eff_RAW = np.nan_to_num(countsNUMRAW/countsDEN)\n",
    "#err_RAW = np.nan_to_num(np.sqrt(eff_RAW*(1.-eff_RAW)/countsDEN))\n",
    "#\n",
    "plt.xlim(15., 100.)\n",
    "plt.plot(bins, eff_CNN)\n",
    "plt.plot(bins, eff_RAW)\n",
    "#\n",
    "plt.ylabel('Efficieny')\n",
    "plt.xlabel('Jet $p_T$ (GeV)')\n",
    "plt.legend(['CNN Resolution','RAW Resolution'], loc='lower right')\n",
    "plt.show()"
   ]
  },
  {
   "cell_type": "code",
   "execution_count": null,
   "metadata": {},
   "outputs": [],
   "source": [
    "print(np.sum(ptPredict>40.)/len(pTreco))\n",
    "print(np.sum(pTraw>65.)/len(pTreco))"
   ]
  },
  {
   "cell_type": "code",
   "execution_count": null,
   "metadata": {
    "collapsed": true
   },
   "outputs": [],
   "source": [
    "# to do: compare the result with what one gets from a Delphes reco with the same worsening of the resolution\n",
    "# - 10% on photons\n",
    "# - 20% on neutral hadrons\n",
    "# - 15% on charged particles"
   ]
  }
 ],
 "metadata": {
  "kernelspec": {
   "display_name": "Python 3",
   "language": "python",
   "name": "python3"
  },
  "language_info": {
   "codemirror_mode": {
    "name": "ipython",
    "version": 3
   },
   "file_extension": ".py",
   "mimetype": "text/x-python",
   "name": "python",
   "nbconvert_exporter": "python",
   "pygments_lexer": "ipython3",
   "version": "3.6.4"
  }
 },
 "nbformat": 4,
 "nbformat_minor": 2
}
