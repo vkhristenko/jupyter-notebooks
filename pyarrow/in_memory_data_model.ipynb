{
 "cells": [
  {
   "cell_type": "markdown",
   "metadata": {},
   "source": [
    "# In memory data model\n",
    "Apache Arrow defines columnar array data structures by composing type metadata with memory buffers, like the ones explained in the documentation on Memory and IO. These data structures are exposed in Python through a series of interrelated classes:\n",
    "\n",
    "- Type Metadata: Instances of pyarrow.DataType, which describe a logical array type\n",
    "- Schemas: Instances of pyarrow.Schema, which describe a named collection of types. These can be thought of as the column types in a table-like object.\n",
    "- Arrays: Instances of pyarrow.Array, which are atomic, contiguous columnar data structures composed from Arrow Buffer objects\n",
    "- Record Batches: Instances of pyarrow.RecordBatch, which are a collection of Array objects with a particular Schema\n",
    "- Tables: Instances of pyarrow.Table, a logical table data structure in which each column consists of one or more pyarrow.Array objects of the same type.\n",
    "\n",
    "We will examine these in the sections below in a series of examples."
   ]
  },
  {
   "cell_type": "markdown",
   "metadata": {},
   "source": [
    "## Type Metadata"
   ]
  },
  {
   "cell_type": "code",
   "execution_count": 1,
   "metadata": {},
   "outputs": [],
   "source": [
    "import pyarrow as pa"
   ]
  },
  {
   "cell_type": "code",
   "execution_count": 4,
   "metadata": {},
   "outputs": [
    {
     "data": {
      "text/plain": [
       "DataType(int32)"
      ]
     },
     "execution_count": 4,
     "metadata": {},
     "output_type": "execute_result"
    }
   ],
   "source": [
    "t1 = pa.int32()\n",
    "t1"
   ]
  },
  {
   "cell_type": "code",
   "execution_count": 6,
   "metadata": {},
   "outputs": [
    {
     "data": {
      "text/plain": [
       "DataType(string)"
      ]
     },
     "execution_count": 6,
     "metadata": {},
     "output_type": "execute_result"
    }
   ],
   "source": [
    "t2 = pa.string()\n",
    "t2"
   ]
  },
  {
   "cell_type": "code",
   "execution_count": 7,
   "metadata": {},
   "outputs": [
    {
     "data": {
      "text/plain": [
       "DataType(binary)"
      ]
     },
     "execution_count": 7,
     "metadata": {},
     "output_type": "execute_result"
    }
   ],
   "source": [
    "t3 = pa.binary()\n",
    "t3"
   ]
  },
  {
   "cell_type": "code",
   "execution_count": 9,
   "metadata": {},
   "outputs": [
    {
     "data": {
      "text/plain": [
       "FixedSizeBinaryType(fixed_size_binary[10])"
      ]
     },
     "execution_count": 9,
     "metadata": {},
     "output_type": "execute_result"
    }
   ],
   "source": [
    "t4 = pa.binary(10)\n",
    "t4"
   ]
  },
  {
   "cell_type": "code",
   "execution_count": 11,
   "metadata": {},
   "outputs": [
    {
     "data": {
      "text/plain": [
       "TimestampType(timestamp[ms])"
      ]
     },
     "execution_count": 11,
     "metadata": {},
     "output_type": "execute_result"
    }
   ],
   "source": [
    "t5 = pa.timestamp(\"ms\")\n",
    "t5"
   ]
  },
  {
   "cell_type": "code",
   "execution_count": 13,
   "metadata": {},
   "outputs": [
    {
     "data": {
      "text/plain": [
       "pyarrow.Field<int32_field: int32>"
      ]
     },
     "execution_count": 13,
     "metadata": {},
     "output_type": "execute_result"
    }
   ],
   "source": [
    "f0 = pa.field(\"int32_field\", t1)\n",
    "f0"
   ]
  },
  {
   "cell_type": "code",
   "execution_count": 14,
   "metadata": {},
   "outputs": [
    {
     "data": {
      "text/plain": [
       "'int32_field'"
      ]
     },
     "execution_count": 14,
     "metadata": {},
     "output_type": "execute_result"
    }
   ],
   "source": [
    "f0.name"
   ]
  },
  {
   "cell_type": "code",
   "execution_count": 15,
   "metadata": {},
   "outputs": [
    {
     "data": {
      "text/plain": [
       "DataType(int32)"
      ]
     },
     "execution_count": 15,
     "metadata": {},
     "output_type": "execute_result"
    }
   ],
   "source": [
    "f0.type"
   ]
  },
  {
   "cell_type": "code",
   "execution_count": 17,
   "metadata": {},
   "outputs": [
    {
     "data": {
      "text/plain": [
       "ListType(list<item: int32>)"
      ]
     },
     "execution_count": 17,
     "metadata": {},
     "output_type": "execute_result"
    }
   ],
   "source": [
    "t6 = pa.list_(t1)\n",
    "t6"
   ]
  },
  {
   "cell_type": "code",
   "execution_count": 19,
   "metadata": {},
   "outputs": [],
   "source": [
    "fields = [\n",
    "    pa.field(\"s0\", t1),\n",
    "    pa.field(\"s1\", t2),\n",
    "    pa.field(\"s2\", t4),\n",
    "    pa.field(\"s3\", t6)\n",
    "]"
   ]
  },
  {
   "cell_type": "code",
   "execution_count": 21,
   "metadata": {},
   "outputs": [
    {
     "data": {
      "text/plain": [
       "StructType(struct<s0: int32, s1: string, s2: fixed_size_binary[10], s3: list<item: int32>>)"
      ]
     },
     "execution_count": 21,
     "metadata": {},
     "output_type": "execute_result"
    }
   ],
   "source": [
    "t7 = pa.struct(fields)\n",
    "t7"
   ]
  },
  {
   "cell_type": "markdown",
   "metadata": {},
   "source": [
    "## Schemas"
   ]
  },
  {
   "cell_type": "code",
   "execution_count": 23,
   "metadata": {},
   "outputs": [
    {
     "data": {
      "text/plain": [
       "s0: int32\n",
       "s1: string\n",
       "s2: fixed_size_binary[10]\n",
       "s3: list<item: int32>\n",
       "  child 0, item: int32"
      ]
     },
     "execution_count": 23,
     "metadata": {},
     "output_type": "execute_result"
    }
   ],
   "source": [
    "my_schema = pa.schema(fields)\n",
    "my_schema"
   ]
  },
  {
   "cell_type": "markdown",
   "metadata": {},
   "source": [
    "## Arrays"
   ]
  },
  {
   "cell_type": "code",
   "execution_count": 25,
   "metadata": {},
   "outputs": [
    {
     "data": {
      "text/plain": [
       "<pyarrow.lib.Int64Array object at 0x10e3d9578>\n",
       "[\n",
       "  1,\n",
       "  2,\n",
       "  NA,\n",
       "  3\n",
       "]"
      ]
     },
     "execution_count": 25,
     "metadata": {},
     "output_type": "execute_result"
    }
   ],
   "source": [
    "arr = pa.array([1,2,None,3])\n",
    "arr"
   ]
  },
  {
   "cell_type": "code",
   "execution_count": 33,
   "metadata": {},
   "outputs": [
    {
     "data": {
      "text/plain": [
       "'\\x01\\x00\\x00\\x00\\x00\\x00\\x00\\x00\\x02\\x00\\x00\\x00\\x00\\x00\\x00\\x00\\x00\\x00\\x00\\x00\\x00\\x00\\x00\\x00\\x03\\x00\\x00\\x00\\x00\\x00\\x00\\x00'"
      ]
     },
     "execution_count": 33,
     "metadata": {},
     "output_type": "execute_result"
    }
   ],
   "source": [
    "some = arr.buffers()[1]\n",
    "some.to_pybytes()"
   ]
  },
  {
   "cell_type": "code",
   "execution_count": 34,
   "metadata": {},
   "outputs": [
    {
     "data": {
      "text/plain": [
       "<pyarrow.lib.UInt16Array object at 0x10e3d9c58>\n",
       "[\n",
       "  1,\n",
       "  2\n",
       "]"
      ]
     },
     "execution_count": 34,
     "metadata": {},
     "output_type": "execute_result"
    }
   ],
   "source": [
    "pa.array([1, 2], type=pa.uint16())"
   ]
  },
  {
   "cell_type": "code",
   "execution_count": 35,
   "metadata": {},
   "outputs": [
    {
     "data": {
      "text/plain": [
       "DataType(int64)"
      ]
     },
     "execution_count": 35,
     "metadata": {},
     "output_type": "execute_result"
    }
   ],
   "source": [
    "arr.type"
   ]
  },
  {
   "cell_type": "code",
   "execution_count": 36,
   "metadata": {},
   "outputs": [
    {
     "data": {
      "text/plain": [
       "4"
      ]
     },
     "execution_count": 36,
     "metadata": {},
     "output_type": "execute_result"
    }
   ],
   "source": [
    "len(arr)"
   ]
  },
  {
   "cell_type": "code",
   "execution_count": 37,
   "metadata": {},
   "outputs": [
    {
     "data": {
      "text/plain": [
       "1"
      ]
     },
     "execution_count": 37,
     "metadata": {},
     "output_type": "execute_result"
    }
   ],
   "source": [
    "arr.null_count"
   ]
  },
  {
   "cell_type": "markdown",
   "metadata": {},
   "source": [
    "## List Arrays"
   ]
  },
  {
   "cell_type": "code",
   "execution_count": 39,
   "metadata": {},
   "outputs": [],
   "source": [
    "nested_arr = pa.array([[[]], None, [[1,2],[3,4]], [[None], [1]]])"
   ]
  },
  {
   "cell_type": "code",
   "execution_count": 40,
   "metadata": {},
   "outputs": [
    {
     "data": {
      "text/plain": [
       "ListType(list<item: list<item: int64>>)"
      ]
     },
     "execution_count": 40,
     "metadata": {},
     "output_type": "execute_result"
    }
   ],
   "source": [
    "nested_arr.type"
   ]
  },
  {
   "cell_type": "code",
   "execution_count": 41,
   "metadata": {},
   "outputs": [
    {
     "name": "stdout",
     "output_type": "stream",
     "text": [
      "list<item: list<item: int64>>\n"
     ]
    }
   ],
   "source": [
    "print(nested_arr.type)"
   ]
  },
  {
   "cell_type": "markdown",
   "metadata": {},
   "source": [
    "## Struct Arrays"
   ]
  },
  {
   "cell_type": "code",
   "execution_count": 42,
   "metadata": {},
   "outputs": [],
   "source": [
    "ty = pa.struct([\n",
    "    pa.field(\"x\", pa.int8()),\n",
    "    pa.field(\"y\", pa.bool_())\n",
    "])"
   ]
  },
  {
   "cell_type": "code",
   "execution_count": 44,
   "metadata": {},
   "outputs": [
    {
     "name": "stdout",
     "output_type": "stream",
     "text": [
      "<pyarrow.lib.StructArray object at 0x10e3ea470>\n",
      "[\n",
      "  {'y': True, 'x': 1},\n",
      "  {'y': False, 'x': 2}\n",
      "]\n"
     ]
    }
   ],
   "source": [
    "cmplx_arr = pa.array([{\"x\" : 1, \"y\" : True}, {\"x\" : 2, \"y\" : False}], type=ty)\n",
    "print cmplx_arr"
   ]
  },
  {
   "cell_type": "code",
   "execution_count": 45,
   "metadata": {},
   "outputs": [
    {
     "name": "stdout",
     "output_type": "stream",
     "text": [
      "<pyarrow.lib.StructArray object at 0x10e3ea628>\n",
      "[\n",
      "  {'y': True, 'x': 3},\n",
      "  {'y': False, 'x': 4}\n",
      "]\n"
     ]
    }
   ],
   "source": [
    "another_arr = pa.array([(3, True), (4, False)], type=ty)\n",
    "print another_arr"
   ]
  },
  {
   "cell_type": "markdown",
   "metadata": {},
   "source": [
    "## Union Arrays"
   ]
  },
  {
   "cell_type": "code",
   "execution_count": 57,
   "metadata": {},
   "outputs": [],
   "source": [
    "xs = pa.array([5,6,7])\n",
    "ys = pa.array([False, True, False])\n",
    "zs = pa.array([b\"viktor\", b\"jim\", b\"maria\"])"
   ]
  },
  {
   "cell_type": "code",
   "execution_count": 69,
   "metadata": {},
   "outputs": [],
   "source": [
    "types = pa.array([0,1,2], type=pa.int8())"
   ]
  },
  {
   "cell_type": "code",
   "execution_count": 70,
   "metadata": {},
   "outputs": [],
   "source": [
    "union_arr = pa.UnionArray.from_sparse(types, [xs, ys, zs])"
   ]
  },
  {
   "cell_type": "code",
   "execution_count": 71,
   "metadata": {},
   "outputs": [
    {
     "name": "stdout",
     "output_type": "stream",
     "text": [
      "union[sparse]<0: int64=0, 1: bool=1, 2: binary=2>\n"
     ]
    }
   ],
   "source": [
    "print union_arr.type"
   ]
  },
  {
   "cell_type": "code",
   "execution_count": 72,
   "metadata": {},
   "outputs": [
    {
     "data": {
      "text/plain": [
       "<pyarrow.lib.UnionArray object at 0x10e401470>\n",
       "[\n",
       "  5,\n",
       "  True,\n",
       "  'maria'\n",
       "]"
      ]
     },
     "execution_count": 72,
     "metadata": {},
     "output_type": "execute_result"
    }
   ],
   "source": [
    "union_arr"
   ]
  },
  {
   "cell_type": "code",
   "execution_count": 73,
   "metadata": {},
   "outputs": [],
   "source": [
    "xs = pa.array([5,6, 7])\n",
    "ys = pa.array([False, True])\n",
    "types = pa.array([0,1,1,0,0], type = pa.int8())\n",
    "offsets = pa.array([0,0,1,1,2], type=pa.int32())\n",
    "dense_union_arr = pa.UnionArray.from_dense(types, offsets, [xs, ys])"
   ]
  },
  {
   "cell_type": "code",
   "execution_count": 74,
   "metadata": {},
   "outputs": [
    {
     "name": "stdout",
     "output_type": "stream",
     "text": [
      "union[dense]<0: int64=0, 1: bool=1>\n"
     ]
    }
   ],
   "source": [
    "print dense_union_arr.type"
   ]
  },
  {
   "cell_type": "code",
   "execution_count": 75,
   "metadata": {},
   "outputs": [
    {
     "data": {
      "text/plain": [
       "<pyarrow.lib.UnionArray object at 0x10e401578>\n",
       "[\n",
       "  5,\n",
       "  False,\n",
       "  True,\n",
       "  6,\n",
       "  7\n",
       "]"
      ]
     },
     "execution_count": 75,
     "metadata": {},
     "output_type": "execute_result"
    }
   ],
   "source": [
    "dense_union_arr"
   ]
  },
  {
   "cell_type": "code",
   "execution_count": 76,
   "metadata": {},
   "outputs": [],
   "source": [
    "indices = pa.array([0,1,0,1,2,0,None,2])\n",
    "dictionary = pa.array([\"foo\", \"bar\", \"baz\"])\n",
    "dict_array = pa.DictionaryArray.from_arrays(indices, dictionary)"
   ]
  },
  {
   "cell_type": "code",
   "execution_count": 77,
   "metadata": {},
   "outputs": [
    {
     "data": {
      "text/plain": [
       "<pyarrow.lib.DictionaryArray object at 0x10e400bb0>\n",
       "[\n",
       "  'foo',\n",
       "  'bar',\n",
       "  'foo',\n",
       "  'bar',\n",
       "  'baz',\n",
       "  'foo',\n",
       "  NA,\n",
       "  'baz'\n",
       "]"
      ]
     },
     "execution_count": 77,
     "metadata": {},
     "output_type": "execute_result"
    }
   ],
   "source": [
    "dict_array"
   ]
  },
  {
   "cell_type": "markdown",
   "metadata": {},
   "source": [
    "## Record Batches"
   ]
  },
  {
   "cell_type": "code",
   "execution_count": 78,
   "metadata": {},
   "outputs": [],
   "source": [
    "data = [\n",
    "    pa.array([1,2,3,4]),\n",
    "    pa.array([\"foo\", \"bar\", \"baz\", None]),\n",
    "    pa.array([True, None, False, True])\n",
    "]"
   ]
  },
  {
   "cell_type": "code",
   "execution_count": 79,
   "metadata": {},
   "outputs": [
    {
     "data": {
      "text/plain": [
       "3"
      ]
     },
     "execution_count": 79,
     "metadata": {},
     "output_type": "execute_result"
    }
   ],
   "source": [
    "batch = pa.RecordBatch.from_arrays(data, [\"f0\", \"f1\", \"f2\"])\n",
    "batch.num_columns"
   ]
  },
  {
   "cell_type": "code",
   "execution_count": 80,
   "metadata": {},
   "outputs": [
    {
     "data": {
      "text/plain": [
       "4"
      ]
     },
     "execution_count": 80,
     "metadata": {},
     "output_type": "execute_result"
    }
   ],
   "source": [
    "batch.num_rows"
   ]
  },
  {
   "cell_type": "code",
   "execution_count": 81,
   "metadata": {},
   "outputs": [
    {
     "data": {
      "text/plain": [
       "f0: int64\n",
       "f1: binary\n",
       "f2: bool"
      ]
     },
     "execution_count": 81,
     "metadata": {},
     "output_type": "execute_result"
    }
   ],
   "source": [
    "batch.schema"
   ]
  },
  {
   "cell_type": "code",
   "execution_count": 82,
   "metadata": {},
   "outputs": [],
   "source": [
    "batch2 = batch.slice(1,3)"
   ]
  },
  {
   "cell_type": "code",
   "execution_count": 85,
   "metadata": {},
   "outputs": [
    {
     "name": "stdout",
     "output_type": "stream",
     "text": [
      "<pyarrow.lib.BinaryArray object at 0x10e401fc8>\n",
      "[\n",
      "  'bar',\n",
      "  'baz',\n",
      "  NA\n",
      "]\n"
     ]
    }
   ],
   "source": [
    "print batch2[1]"
   ]
  },
  {
   "cell_type": "markdown",
   "metadata": {},
   "source": [
    "## Tables"
   ]
  },
  {
   "cell_type": "code",
   "execution_count": 86,
   "metadata": {},
   "outputs": [],
   "source": [
    "batches = [batch] * 5\n",
    "table = pa.Table.from_batches(batches)"
   ]
  },
  {
   "cell_type": "code",
   "execution_count": 87,
   "metadata": {},
   "outputs": [
    {
     "data": {
      "text/plain": [
       "pyarrow.Table\n",
       "f0: int64\n",
       "f1: binary\n",
       "f2: bool"
      ]
     },
     "execution_count": 87,
     "metadata": {},
     "output_type": "execute_result"
    }
   ],
   "source": [
    "table"
   ]
  },
  {
   "cell_type": "code",
   "execution_count": 88,
   "metadata": {},
   "outputs": [
    {
     "data": {
      "text/plain": [
       "<pyarrow.lib.Column object at 0x10e35a630>\n",
       "chunk 0: <pyarrow.lib.Int64Array object at 0x10e405310>\n",
       "[\n",
       "  1,\n",
       "  2,\n",
       "  3,\n",
       "  4\n",
       "]\n",
       "chunk 1: <pyarrow.lib.Int64Array object at 0x10e405368>\n",
       "[\n",
       "  1,\n",
       "  2,\n",
       "  3,\n",
       "  4\n",
       "]\n",
       "chunk 2: <pyarrow.lib.Int64Array object at 0x10e4053c0>\n",
       "[\n",
       "  1,\n",
       "  2,\n",
       "  3,\n",
       "  4\n",
       "]\n",
       "chunk 3: <pyarrow.lib.Int64Array object at 0x10e405418>\n",
       "[\n",
       "  1,\n",
       "  2,\n",
       "  3,\n",
       "  4\n",
       "]\n",
       "chunk 4: <pyarrow.lib.Int64Array object at 0x10e405470>\n",
       "[\n",
       "  1,\n",
       "  2,\n",
       "  3,\n",
       "  4\n",
       "]"
      ]
     },
     "execution_count": 88,
     "metadata": {},
     "output_type": "execute_result"
    }
   ],
   "source": [
    "c = table[0]\n",
    "c"
   ]
  },
  {
   "cell_type": "code",
   "execution_count": 89,
   "metadata": {},
   "outputs": [
    {
     "data": {
      "text/plain": [
       "0     1\n",
       "1     2\n",
       "2     3\n",
       "3     4\n",
       "4     1\n",
       "5     2\n",
       "6     3\n",
       "7     4\n",
       "8     1\n",
       "9     2\n",
       "10    3\n",
       "11    4\n",
       "12    1\n",
       "13    2\n",
       "14    3\n",
       "15    4\n",
       "16    1\n",
       "17    2\n",
       "18    3\n",
       "19    4\n",
       "Name: f0, dtype: int64"
      ]
     },
     "execution_count": 89,
     "metadata": {},
     "output_type": "execute_result"
    }
   ],
   "source": [
    "c.to_pandas()"
   ]
  },
  {
   "cell_type": "code",
   "execution_count": null,
   "metadata": {},
   "outputs": [],
   "source": []
  }
 ],
 "metadata": {
  "kernelspec": {
   "display_name": "Python 2",
   "language": "python",
   "name": "python2"
  },
  "language_info": {
   "codemirror_mode": {
    "name": "ipython",
    "version": 2
   },
   "file_extension": ".py",
   "mimetype": "text/x-python",
   "name": "python",
   "nbconvert_exporter": "python",
   "pygments_lexer": "ipython2",
   "version": "2.7.14"
  }
 },
 "nbformat": 4,
 "nbformat_minor": 2
}
