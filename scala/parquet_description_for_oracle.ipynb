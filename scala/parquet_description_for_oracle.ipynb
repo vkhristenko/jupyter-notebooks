{
 "cells": [
  {
   "cell_type": "markdown",
   "metadata": {},
   "source": [
    "# Example 1: Array of Struct\n",
    "- Collections of particles, 1 collection for each type. AoS\n",
    "- __Here, just a few manipulations:__\n",
    "- We start with ROOT DataSource\n",
    "- Apply some pipeline (here just skip the actual compution and write out) and write to disk in parquet\n",
    "- Read back in parquet, apply some pipeline (skip the pipeline here)\n",
    "\n",
    "__Schema Structure:__\n",
    "- AoS for several particle types\n",
    "- For each particle fields are kinematic or physical properties of that particle.\n",
    "\n",
    "__To launch with Jupyter Notebook and Apache Toree:__\n",
    "- `SPARK_OPTS=\"--packages org.diana-hep:spark-root_2.11:0.1.16 --master local\" jupyter-notebook`"
   ]
  },
  {
   "cell_type": "code",
   "execution_count": 1,
   "metadata": {},
   "outputs": [],
   "source": [
    "import org.dianahep.sparkroot.experimental._"
   ]
  },
  {
   "cell_type": "code",
   "execution_count": 2,
   "metadata": {},
   "outputs": [
    {
     "data": {
      "text/plain": [
       "df = [Event: array<struct<fUniqueID:int,fBits:int,Number:bigint,ReadTime:float,ProcTime:float,ProcessID:int,MPI:int,Weight:float,Scale:float,AlphaQED:float,AlphaQCD:float,ID1:int,ID2:int,X1:float,X2:float,ScalePDF:float,PDF1:float,PDF2:float>>, Event_size: int ... 26 more fields]\n"
      ]
     },
     "metadata": {},
     "output_type": "display_data"
    },
    {
     "data": {
      "text/plain": [
       "[Event: array<struct<fUniqueID:int,fBits:int,Number:bigint,ReadTime:float,ProcTime:float,ProcessID:int,MPI:int,Weight:float,Scale:float,AlphaQED:float,AlphaQCD:float,ID1:int,ID2:int,X1:float,X2:float,ScalePDF:float,PDF1:float,PDF2:float>>, Event_size: int ... 26 more fields]"
      ]
     },
     "execution_count": 2,
     "metadata": {},
     "output_type": "execute_result"
    }
   ],
   "source": [
    "val df = spark.read.root(\"file:/Users/vk/data/ML_MP_JR/ttbar_lepFilter_13TeV/ttbar_lepFilter_13TeV_950.root\")"
   ]
  },
  {
   "cell_type": "code",
   "execution_count": 3,
   "metadata": {},
   "outputs": [
    {
     "name": "stdout",
     "output_type": "stream",
     "text": [
      "root\n",
      " |-- Event: array (nullable = true)\n",
      " |    |-- element: struct (containsNull = true)\n",
      " |    |    |-- fUniqueID: integer (nullable = true)\n",
      " |    |    |-- fBits: integer (nullable = true)\n",
      " |    |    |-- Number: long (nullable = true)\n",
      " |    |    |-- ReadTime: float (nullable = true)\n",
      " |    |    |-- ProcTime: float (nullable = true)\n",
      " |    |    |-- ProcessID: integer (nullable = true)\n",
      " |    |    |-- MPI: integer (nullable = true)\n",
      " |    |    |-- Weight: float (nullable = true)\n",
      " |    |    |-- Scale: float (nullable = true)\n",
      " |    |    |-- AlphaQED: float (nullable = true)\n",
      " |    |    |-- AlphaQCD: float (nullable = true)\n",
      " |    |    |-- ID1: integer (nullable = true)\n",
      " |    |    |-- ID2: integer (nullable = true)\n",
      " |    |    |-- X1: float (nullable = true)\n",
      " |    |    |-- X2: float (nullable = true)\n",
      " |    |    |-- ScalePDF: float (nullable = true)\n",
      " |    |    |-- PDF1: float (nullable = true)\n",
      " |    |    |-- PDF2: float (nullable = true)\n",
      " |-- Event_size: integer (nullable = true)\n",
      " |-- Particle: array (nullable = true)\n",
      " |    |-- element: struct (containsNull = true)\n",
      " |    |    |-- fUniqueID: integer (nullable = true)\n",
      " |    |    |-- fBits: integer (nullable = true)\n",
      " |    |    |-- PID: integer (nullable = true)\n",
      " |    |    |-- Status: integer (nullable = true)\n",
      " |    |    |-- IsPU: integer (nullable = true)\n",
      " |    |    |-- M1: integer (nullable = true)\n",
      " |    |    |-- M2: integer (nullable = true)\n",
      " |    |    |-- D1: integer (nullable = true)\n",
      " |    |    |-- D2: integer (nullable = true)\n",
      " |    |    |-- Charge: integer (nullable = true)\n",
      " |    |    |-- Mass: float (nullable = true)\n",
      " |    |    |-- E: float (nullable = true)\n",
      " |    |    |-- Px: float (nullable = true)\n",
      " |    |    |-- Py: float (nullable = true)\n",
      " |    |    |-- Pz: float (nullable = true)\n",
      " |    |    |-- PT: float (nullable = true)\n",
      " |    |    |-- Eta: float (nullable = true)\n",
      " |    |    |-- Phi: float (nullable = true)\n",
      " |    |    |-- Rapidity: float (nullable = true)\n",
      " |    |    |-- T: float (nullable = true)\n",
      " |    |    |-- X: float (nullable = true)\n",
      " |    |    |-- Y: float (nullable = true)\n",
      " |    |    |-- Z: float (nullable = true)\n",
      " |-- Particle_size: integer (nullable = true)\n",
      " |-- Vertex: array (nullable = true)\n",
      " |    |-- element: struct (containsNull = true)\n",
      " |    |    |-- fUniqueID: integer (nullable = true)\n",
      " |    |    |-- fBits: integer (nullable = true)\n",
      " |    |    |-- T: float (nullable = true)\n",
      " |    |    |-- X: float (nullable = true)\n",
      " |    |    |-- Y: float (nullable = true)\n",
      " |    |    |-- Z: float (nullable = true)\n",
      " |-- Vertex_size: integer (nullable = true)\n",
      " |-- GenJet: array (nullable = true)\n",
      " |    |-- element: struct (containsNull = true)\n",
      " |    |    |-- fUniqueID: integer (nullable = true)\n",
      " |    |    |-- fBits: integer (nullable = true)\n",
      " |    |    |-- PT: float (nullable = true)\n",
      " |    |    |-- Eta: float (nullable = true)\n",
      " |    |    |-- Phi: float (nullable = true)\n",
      " |    |    |-- T: float (nullable = true)\n",
      " |    |    |-- Mass: float (nullable = true)\n",
      " |    |    |-- DeltaEta: float (nullable = true)\n",
      " |    |    |-- DeltaPhi: float (nullable = true)\n",
      " |    |    |-- Flavor: integer (nullable = true)\n",
      " |    |    |-- FlavorAlgo: integer (nullable = true)\n",
      " |    |    |-- FlavorPhys: integer (nullable = true)\n",
      " |    |    |-- BTag: integer (nullable = true)\n",
      " |    |    |-- BTagAlgo: integer (nullable = true)\n",
      " |    |    |-- BTagPhys: integer (nullable = true)\n",
      " |    |    |-- TauTag: integer (nullable = true)\n",
      " |    |    |-- Charge: integer (nullable = true)\n",
      " |    |    |-- EhadOverEem: float (nullable = true)\n",
      " |    |    |-- NCharged: integer (nullable = true)\n",
      " |    |    |-- NNeutrals: integer (nullable = true)\n",
      " |    |    |-- Beta: float (nullable = true)\n",
      " |    |    |-- BetaStar: float (nullable = true)\n",
      " |    |    |-- MeanSqDeltaR: float (nullable = true)\n",
      " |    |    |-- PTD: float (nullable = true)\n",
      " |    |    |-- FracPt: array (nullable = true)\n",
      " |    |    |    |-- element: float (containsNull = true)\n",
      " |    |    |-- Tau: array (nullable = true)\n",
      " |    |    |    |-- element: float (containsNull = true)\n",
      " |    |    |-- TrimmedP4: array (nullable = true)\n",
      " |    |    |    |-- element: struct (containsNull = true)\n",
      " |    |    |    |    |-- TObject: struct (nullable = true)\n",
      " |    |    |    |    |    |-- fUniqueID: integer (nullable = true)\n",
      " |    |    |    |    |    |-- fBits: integer (nullable = true)\n",
      " |    |    |    |    |-- fP: struct (nullable = true)\n",
      " |    |    |    |    |    |-- TObject: struct (nullable = true)\n",
      " |    |    |    |    |    |    |-- fUniqueID: integer (nullable = true)\n",
      " |    |    |    |    |    |    |-- fBits: integer (nullable = true)\n",
      " |    |    |    |    |    |-- fX: double (nullable = true)\n",
      " |    |    |    |    |    |-- fY: double (nullable = true)\n",
      " |    |    |    |    |    |-- fZ: double (nullable = true)\n",
      " |    |    |    |    |-- fE: double (nullable = true)\n",
      " |    |    |-- PrunedP4: array (nullable = true)\n",
      " |    |    |    |-- element: struct (containsNull = true)\n",
      " |    |    |    |    |-- TObject: struct (nullable = true)\n",
      " |    |    |    |    |    |-- fUniqueID: integer (nullable = true)\n",
      " |    |    |    |    |    |-- fBits: integer (nullable = true)\n",
      " |    |    |    |    |-- fP: struct (nullable = true)\n",
      " |    |    |    |    |    |-- TObject: struct (nullable = true)\n",
      " |    |    |    |    |    |    |-- fUniqueID: integer (nullable = true)\n",
      " |    |    |    |    |    |    |-- fBits: integer (nullable = true)\n",
      " |    |    |    |    |    |-- fX: double (nullable = true)\n",
      " |    |    |    |    |    |-- fY: double (nullable = true)\n",
      " |    |    |    |    |    |-- fZ: double (nullable = true)\n",
      " |    |    |    |    |-- fE: double (nullable = true)\n",
      " |    |    |-- SoftDroppedP4: array (nullable = true)\n",
      " |    |    |    |-- element: struct (containsNull = true)\n",
      " |    |    |    |    |-- TObject: struct (nullable = true)\n",
      " |    |    |    |    |    |-- fUniqueID: integer (nullable = true)\n",
      " |    |    |    |    |    |-- fBits: integer (nullable = true)\n",
      " |    |    |    |    |-- fP: struct (nullable = true)\n",
      " |    |    |    |    |    |-- TObject: struct (nullable = true)\n",
      " |    |    |    |    |    |    |-- fUniqueID: integer (nullable = true)\n",
      " |    |    |    |    |    |    |-- fBits: integer (nullable = true)\n",
      " |    |    |    |    |    |-- fX: double (nullable = true)\n",
      " |    |    |    |    |    |-- fY: double (nullable = true)\n",
      " |    |    |    |    |    |-- fZ: double (nullable = true)\n",
      " |    |    |    |    |-- fE: double (nullable = true)\n",
      " |    |    |-- NSubJetsTrimmed: integer (nullable = true)\n",
      " |    |    |-- NSubJetsPruned: integer (nullable = true)\n",
      " |    |    |-- NSubJetsSoftDropped: integer (nullable = true)\n",
      " |    |    |-- GenJet_Area: struct (nullable = true)\n",
      " |    |    |    |-- TObject: struct (nullable = true)\n",
      " |    |    |    |    |-- fUniqueID: integer (nullable = true)\n",
      " |    |    |    |    |-- fBits: integer (nullable = true)\n",
      " |    |    |    |-- fP: struct (nullable = true)\n",
      " |    |    |    |    |-- TObject: struct (nullable = true)\n",
      " |    |    |    |    |    |-- fUniqueID: integer (nullable = true)\n",
      " |    |    |    |    |    |-- fBits: integer (nullable = true)\n",
      " |    |    |    |    |-- fX: double (nullable = true)\n",
      " |    |    |    |    |-- fY: double (nullable = true)\n",
      " |    |    |    |    |-- fZ: double (nullable = true)\n",
      " |    |    |    |-- fE: double (nullable = true)\n",
      " |-- GenJet_size: integer (nullable = true)\n",
      " |-- GenMissingET: array (nullable = true)\n",
      " |    |-- element: struct (containsNull = true)\n",
      " |    |    |-- fUniqueID: integer (nullable = true)\n",
      " |    |    |-- fBits: integer (nullable = true)\n",
      " |    |    |-- MET: float (nullable = true)\n",
      " |    |    |-- Eta: float (nullable = true)\n",
      " |    |    |-- Phi: float (nullable = true)\n",
      " |-- GenMissingET_size: integer (nullable = true)\n",
      " |-- EFlowTrack: array (nullable = true)\n",
      " |    |-- element: struct (containsNull = true)\n",
      " |    |    |-- fUniqueID: integer (nullable = true)\n",
      " |    |    |-- fBits: integer (nullable = true)\n",
      " |    |    |-- PID: integer (nullable = true)\n",
      " |    |    |-- Charge: integer (nullable = true)\n",
      " |    |    |-- PT: float (nullable = true)\n",
      " |    |    |-- Eta: float (nullable = true)\n",
      " |    |    |-- Phi: float (nullable = true)\n",
      " |    |    |-- EtaOuter: float (nullable = true)\n",
      " |    |    |-- PhiOuter: float (nullable = true)\n",
      " |    |    |-- X: float (nullable = true)\n",
      " |    |    |-- Y: float (nullable = true)\n",
      " |    |    |-- Z: float (nullable = true)\n",
      " |    |    |-- T: float (nullable = true)\n",
      " |    |    |-- XOuter: float (nullable = true)\n",
      " |    |    |-- YOuter: float (nullable = true)\n",
      " |    |    |-- ZOuter: float (nullable = true)\n",
      " |    |    |-- TOuter: float (nullable = true)\n",
      " |    |    |-- Dxy: float (nullable = true)\n",
      " |    |    |-- SDxy: float (nullable = true)\n",
      " |    |    |-- Xd: float (nullable = true)\n",
      " |    |    |-- Yd: float (nullable = true)\n",
      " |    |    |-- Zd: float (nullable = true)\n",
      " |    |    |-- EFlowTrack_Particle: struct (nullable = true)\n",
      " |    |    |    |-- TObject: struct (nullable = true)\n",
      " |    |    |    |    |-- fUniqueID: integer (nullable = true)\n",
      " |    |    |    |    |-- fBits: integer (nullable = true)\n",
      " |-- EFlowTrack_size: integer (nullable = true)\n",
      " |-- EFlowPhoton: array (nullable = true)\n",
      " |    |-- element: struct (containsNull = true)\n",
      " |    |    |-- fUniqueID: integer (nullable = true)\n",
      " |    |    |-- fBits: integer (nullable = true)\n",
      " |    |    |-- ET: float (nullable = true)\n",
      " |    |    |-- Eta: float (nullable = true)\n",
      " |    |    |-- Phi: float (nullable = true)\n",
      " |    |    |-- E: float (nullable = true)\n",
      " |    |    |-- T: float (nullable = true)\n",
      " |    |    |-- NTimeHits: integer (nullable = true)\n",
      " |    |    |-- Eem: float (nullable = true)\n",
      " |    |    |-- Ehad: float (nullable = true)\n",
      " |    |    |-- Edges: array (nullable = true)\n",
      " |    |    |    |-- element: float (containsNull = true)\n",
      " |-- EFlowPhoton_size: integer (nullable = true)\n",
      " |-- EFlowNeutralHadron: array (nullable = true)\n",
      " |    |-- element: struct (containsNull = true)\n",
      " |    |    |-- fUniqueID: integer (nullable = true)\n",
      " |    |    |-- fBits: integer (nullable = true)\n",
      " |    |    |-- ET: float (nullable = true)\n",
      " |    |    |-- Eta: float (nullable = true)\n",
      " |    |    |-- Phi: float (nullable = true)\n",
      " |    |    |-- E: float (nullable = true)\n",
      " |    |    |-- T: float (nullable = true)\n",
      " |    |    |-- NTimeHits: integer (nullable = true)\n",
      " |    |    |-- Eem: float (nullable = true)\n",
      " |    |    |-- Ehad: float (nullable = true)\n",
      " |    |    |-- Edges: array (nullable = true)\n",
      " |    |    |    |-- element: float (containsNull = true)\n",
      " |-- EFlowNeutralHadron_size: integer (nullable = true)\n",
      " |-- Photon: array (nullable = true)\n",
      " |    |-- element: struct (containsNull = true)\n",
      " |    |    |-- fUniqueID: integer (nullable = true)\n",
      " |    |    |-- fBits: integer (nullable = true)\n",
      " |    |    |-- PT: float (nullable = true)\n",
      " |    |    |-- Eta: float (nullable = true)\n",
      " |    |    |-- Phi: float (nullable = true)\n",
      " |    |    |-- E: float (nullable = true)\n",
      " |    |    |-- T: float (nullable = true)\n",
      " |    |    |-- EhadOverEem: float (nullable = true)\n",
      " |    |    |-- IsolationVar: float (nullable = true)\n",
      " |    |    |-- IsolationVarRhoCorr: float (nullable = true)\n",
      " |    |    |-- SumPtCharged: float (nullable = true)\n",
      " |    |    |-- SumPtNeutral: float (nullable = true)\n",
      " |    |    |-- SumPtChargedPU: float (nullable = true)\n",
      " |    |    |-- SumPt: float (nullable = true)\n",
      " |-- Photon_size: integer (nullable = true)\n",
      " |-- Electron: array (nullable = true)\n",
      " |    |-- element: struct (containsNull = true)\n",
      " |    |    |-- fUniqueID: integer (nullable = true)\n",
      " |    |    |-- fBits: integer (nullable = true)\n",
      " |    |    |-- PT: float (nullable = true)\n",
      " |    |    |-- Eta: float (nullable = true)\n",
      " |    |    |-- Phi: float (nullable = true)\n",
      " |    |    |-- T: float (nullable = true)\n",
      " |    |    |-- Charge: integer (nullable = true)\n",
      " |    |    |-- EhadOverEem: float (nullable = true)\n",
      " |    |    |-- Electron_Particle: struct (nullable = true)\n",
      " |    |    |    |-- TObject: struct (nullable = true)\n",
      " |    |    |    |    |-- fUniqueID: integer (nullable = true)\n",
      " |    |    |    |    |-- fBits: integer (nullable = true)\n",
      " |    |    |-- IsolationVar: float (nullable = true)\n",
      " |    |    |-- IsolationVarRhoCorr: float (nullable = true)\n",
      " |    |    |-- SumPtCharged: float (nullable = true)\n",
      " |    |    |-- SumPtNeutral: float (nullable = true)\n",
      " |    |    |-- SumPtChargedPU: float (nullable = true)\n",
      " |    |    |-- SumPt: float (nullable = true)\n",
      " |-- Electron_size: integer (nullable = true)\n",
      " |-- MuonTight: array (nullable = true)\n",
      " |    |-- element: struct (containsNull = true)\n",
      " |    |    |-- fUniqueID: integer (nullable = true)\n",
      " |    |    |-- fBits: integer (nullable = true)\n",
      " |    |    |-- PT: float (nullable = true)\n",
      " |    |    |-- Eta: float (nullable = true)\n",
      " |    |    |-- Phi: float (nullable = true)\n",
      " |    |    |-- T: float (nullable = true)\n",
      " |    |    |-- Charge: integer (nullable = true)\n",
      " |    |    |-- MuonTight_Particle: struct (nullable = true)\n",
      " |    |    |    |-- TObject: struct (nullable = true)\n",
      " |    |    |    |    |-- fUniqueID: integer (nullable = true)\n",
      " |    |    |    |    |-- fBits: integer (nullable = true)\n",
      " |    |    |-- IsolationVar: float (nullable = true)\n",
      " |    |    |-- IsolationVarRhoCorr: float (nullable = true)\n",
      " |    |    |-- SumPtCharged: float (nullable = true)\n",
      " |    |    |-- SumPtNeutral: float (nullable = true)\n",
      " |    |    |-- SumPtChargedPU: float (nullable = true)\n",
      " |    |    |-- SumPt: float (nullable = true)\n",
      " |-- MuonTight_size: integer (nullable = true)\n",
      " |-- Jet: array (nullable = true)\n",
      " |    |-- element: struct (containsNull = true)\n",
      " |    |    |-- fUniqueID: integer (nullable = true)\n",
      " |    |    |-- fBits: integer (nullable = true)\n",
      " |    |    |-- PT: float (nullable = true)\n",
      " |    |    |-- Eta: float (nullable = true)\n",
      " |    |    |-- Phi: float (nullable = true)\n",
      " |    |    |-- T: float (nullable = true)\n",
      " |    |    |-- Mass: float (nullable = true)\n",
      " |    |    |-- DeltaEta: float (nullable = true)\n",
      " |    |    |-- DeltaPhi: float (nullable = true)\n",
      " |    |    |-- Flavor: integer (nullable = true)\n",
      " |    |    |-- FlavorAlgo: integer (nullable = true)\n",
      " |    |    |-- FlavorPhys: integer (nullable = true)\n",
      " |    |    |-- BTag: integer (nullable = true)\n",
      " |    |    |-- BTagAlgo: integer (nullable = true)\n",
      " |    |    |-- BTagPhys: integer (nullable = true)\n",
      " |    |    |-- TauTag: integer (nullable = true)\n",
      " |    |    |-- Charge: integer (nullable = true)\n",
      " |    |    |-- EhadOverEem: float (nullable = true)\n",
      " |    |    |-- NCharged: integer (nullable = true)\n",
      " |    |    |-- NNeutrals: integer (nullable = true)\n",
      " |    |    |-- Beta: float (nullable = true)\n",
      " |    |    |-- BetaStar: float (nullable = true)\n",
      " |    |    |-- MeanSqDeltaR: float (nullable = true)\n",
      " |    |    |-- PTD: float (nullable = true)\n",
      " |    |    |-- FracPt: array (nullable = true)\n",
      " |    |    |    |-- element: float (containsNull = true)\n",
      " |    |    |-- Tau: array (nullable = true)\n",
      " |    |    |    |-- element: float (containsNull = true)\n",
      " |    |    |-- TrimmedP4: array (nullable = true)\n",
      " |    |    |    |-- element: struct (containsNull = true)\n",
      " |    |    |    |    |-- TObject: struct (nullable = true)\n",
      " |    |    |    |    |    |-- fUniqueID: integer (nullable = true)\n",
      " |    |    |    |    |    |-- fBits: integer (nullable = true)\n",
      " |    |    |    |    |-- fP: struct (nullable = true)\n",
      " |    |    |    |    |    |-- TObject: struct (nullable = true)\n",
      " |    |    |    |    |    |    |-- fUniqueID: integer (nullable = true)\n",
      " |    |    |    |    |    |    |-- fBits: integer (nullable = true)\n",
      " |    |    |    |    |    |-- fX: double (nullable = true)\n",
      " |    |    |    |    |    |-- fY: double (nullable = true)\n",
      " |    |    |    |    |    |-- fZ: double (nullable = true)\n",
      " |    |    |    |    |-- fE: double (nullable = true)\n",
      " |    |    |-- PrunedP4: array (nullable = true)\n",
      " |    |    |    |-- element: struct (containsNull = true)\n",
      " |    |    |    |    |-- TObject: struct (nullable = true)\n",
      " |    |    |    |    |    |-- fUniqueID: integer (nullable = true)\n",
      " |    |    |    |    |    |-- fBits: integer (nullable = true)\n",
      " |    |    |    |    |-- fP: struct (nullable = true)\n",
      " |    |    |    |    |    |-- TObject: struct (nullable = true)\n",
      " |    |    |    |    |    |    |-- fUniqueID: integer (nullable = true)\n",
      " |    |    |    |    |    |    |-- fBits: integer (nullable = true)\n",
      " |    |    |    |    |    |-- fX: double (nullable = true)\n",
      " |    |    |    |    |    |-- fY: double (nullable = true)\n",
      " |    |    |    |    |    |-- fZ: double (nullable = true)\n",
      " |    |    |    |    |-- fE: double (nullable = true)\n",
      " |    |    |-- SoftDroppedP4: array (nullable = true)\n",
      " |    |    |    |-- element: struct (containsNull = true)\n",
      " |    |    |    |    |-- TObject: struct (nullable = true)\n",
      " |    |    |    |    |    |-- fUniqueID: integer (nullable = true)\n",
      " |    |    |    |    |    |-- fBits: integer (nullable = true)\n",
      " |    |    |    |    |-- fP: struct (nullable = true)\n",
      " |    |    |    |    |    |-- TObject: struct (nullable = true)\n",
      " |    |    |    |    |    |    |-- fUniqueID: integer (nullable = true)\n",
      " |    |    |    |    |    |    |-- fBits: integer (nullable = true)\n",
      " |    |    |    |    |    |-- fX: double (nullable = true)\n",
      " |    |    |    |    |    |-- fY: double (nullable = true)\n",
      " |    |    |    |    |    |-- fZ: double (nullable = true)\n",
      " |    |    |    |    |-- fE: double (nullable = true)\n",
      " |    |    |-- NSubJetsTrimmed: integer (nullable = true)\n",
      " |    |    |-- NSubJetsPruned: integer (nullable = true)\n",
      " |    |    |-- NSubJetsSoftDropped: integer (nullable = true)\n",
      " |    |    |-- Jet_Area: struct (nullable = true)\n",
      " |    |    |    |-- TObject: struct (nullable = true)\n",
      " |    |    |    |    |-- fUniqueID: integer (nullable = true)\n",
      " |    |    |    |    |-- fBits: integer (nullable = true)\n",
      " |    |    |    |-- fP: struct (nullable = true)\n",
      " |    |    |    |    |-- TObject: struct (nullable = true)\n",
      " |    |    |    |    |    |-- fUniqueID: integer (nullable = true)\n",
      " |    |    |    |    |    |-- fBits: integer (nullable = true)\n",
      " |    |    |    |    |-- fX: double (nullable = true)\n",
      " |    |    |    |    |-- fY: double (nullable = true)\n",
      " |    |    |    |    |-- fZ: double (nullable = true)\n",
      " |    |    |    |-- fE: double (nullable = true)\n",
      " |-- Jet_size: integer (nullable = true)\n",
      " |-- MissingET: array (nullable = true)\n",
      " |    |-- element: struct (containsNull = true)\n",
      " |    |    |-- fUniqueID: integer (nullable = true)\n",
      " |    |    |-- fBits: integer (nullable = true)\n",
      " |    |    |-- MET: float (nullable = true)\n",
      " |    |    |-- Eta: float (nullable = true)\n",
      " |    |    |-- Phi: float (nullable = true)\n",
      " |-- MissingET_size: integer (nullable = true)\n",
      " |-- GenPileUpMissingET: array (nullable = true)\n",
      " |    |-- element: struct (containsNull = true)\n",
      " |    |    |-- fUniqueID: integer (nullable = true)\n",
      " |    |    |-- fBits: integer (nullable = true)\n",
      " |    |    |-- MET: float (nullable = true)\n",
      " |    |    |-- Eta: float (nullable = true)\n",
      " |    |    |-- Phi: float (nullable = true)\n",
      " |-- GenPileUpMissingET_size: integer (nullable = true)\n",
      "\n"
     ]
    }
   ],
   "source": [
    "df.printSchema"
   ]
  },
  {
   "cell_type": "code",
   "execution_count": 4,
   "metadata": {},
   "outputs": [],
   "source": [
    "import org.apache.spark.sql._\n",
    "df.limit(10).write.mode(SaveMode.Overwrite).parquet(\"file:/Users/vk/data/ML_MP_JR/ttbar_lepFilter_13TeV/test_oracle_particleList.parquet\")"
   ]
  },
  {
   "cell_type": "code",
   "execution_count": 5,
   "metadata": {},
   "outputs": [
    {
     "data": {
      "text/plain": [
       "dfp = [Event: array<struct<fUniqueID:int,fBits:int,Number:bigint,ReadTime:float,ProcTime:float,ProcessID:int,MPI:int,Weight:float,Scale:float,AlphaQED:float,AlphaQCD:float,ID1:int,ID2:int,X1:float,X2:float,ScalePDF:float,PDF1:float,PDF2:float>>, Event_size: int ... 26 more fields]\n"
      ]
     },
     "metadata": {},
     "output_type": "display_data"
    },
    {
     "data": {
      "text/plain": [
       "[Event: array<struct<fUniqueID:int,fBits:int,Number:bigint,ReadTime:float,ProcTime:float,ProcessID:int,MPI:int,Weight:float,Scale:float,AlphaQED:float,AlphaQCD:float,ID1:int,ID2:int,X1:float,X2:float,ScalePDF:float,PDF1:float,PDF2:float>>, Event_size: int ... 26 more fields]"
      ]
     },
     "execution_count": 5,
     "metadata": {},
     "output_type": "execute_result"
    }
   ],
   "source": [
    "val dfp = spark.read.parquet(\"file:/Users/vk/data/ML_MP_JR/ttbar_lepFilter_13TeV/test_oracle_particleList.parquet\")"
   ]
  },
  {
   "cell_type": "code",
   "execution_count": 6,
   "metadata": {},
   "outputs": [
    {
     "name": "stdout",
     "output_type": "stream",
     "text": [
      "+--------------------+\n",
      "|              Photon|\n",
      "+--------------------+\n",
      "|                  []|\n",
      "|[[0,50331648,11.1...|\n",
      "|                  []|\n",
      "|                  []|\n",
      "|[[0,50331648,99.7...|\n",
      "|                  []|\n",
      "|[[0,50331648,14.0...|\n",
      "|                  []|\n",
      "|[[0,50331648,16.0...|\n",
      "|[[0,50331648,12.3...|\n",
      "+--------------------+\n",
      "\n"
     ]
    }
   ],
   "source": [
    "dfp.select(\"Photon\").show"
   ]
  },
  {
   "cell_type": "markdown",
   "metadata": {},
   "source": [
    "# Example 2: 2D Matrix of Features\n",
    "__Schema Structure:__\n",
    "- `hfeatures` - an array of high level kinematic features\n",
    "- `lfeatures` - a 2D matrix with each row corresponding to some particle with kinematic features. Matrix is 800 x 19"
   ]
  },
  {
   "cell_type": "code",
   "execution_count": 7,
   "metadata": {},
   "outputs": [
    {
     "data": {
      "text/plain": [
       "df2 = [hfeatures: array<double>, lfeatures: array<array<double>>]\n"
      ]
     },
     "metadata": {},
     "output_type": "display_data"
    },
    {
     "data": {
      "text/plain": [
       "[hfeatures: array<double>, lfeatures: array<array<double>>]"
      ]
     },
     "execution_count": 7,
     "metadata": {},
     "output_type": "execute_result"
    }
   ],
   "source": [
    "val df2 = spark.read.parquet(\"file:/Users/vk/data/ML_MP_JR/parquet/qcd/part-06502-4e006c2f-7c89-4b89-aafb-e0977ef7f749.snappy.parquet\")"
   ]
  },
  {
   "cell_type": "code",
   "execution_count": 8,
   "metadata": {},
   "outputs": [
    {
     "name": "stdout",
     "output_type": "stream",
     "text": [
      "root\n",
      " |-- hfeatures: array (nullable = true)\n",
      " |    |-- element: double (containsNull = true)\n",
      " |-- lfeatures: array (nullable = true)\n",
      " |    |-- element: array (containsNull = true)\n",
      " |    |    |-- element: double (containsNull = true)\n",
      "\n"
     ]
    }
   ],
   "source": [
    "df2.printSchema"
   ]
  },
  {
   "cell_type": "code",
   "execution_count": 9,
   "metadata": {},
   "outputs": [
    {
     "name": "stdout",
     "output_type": "stream",
     "text": [
      "+--------------------+--------------------+\n",
      "|           hfeatures|           lfeatures|\n",
      "+--------------------+--------------------+\n",
      "|[0.0, 26.71513748...|[WrappedArray(797...|\n",
      "|[77.6775894165039...|[WrappedArray(72....|\n",
      "|[0.0, 17.52551651...|[WrappedArray(49....|\n",
      "|[44.1640167236328...|[WrappedArray(55....|\n",
      "|[138.158115386962...|[WrappedArray(126...|\n",
      "|[139.724960327148...|[WrappedArray(187...|\n",
      "|[0.0, 17.14591407...|[WrappedArray(69....|\n",
      "|[0.0, 39.43039321...|[WrappedArray(251...|\n",
      "|[41.2450332641601...|[WrappedArray(67....|\n",
      "|[0.0, 19.49344825...|[WrappedArray(33....|\n",
      "|[45.5153923034668...|[WrappedArray(49....|\n",
      "|[40.5815162658691...|[WrappedArray(52....|\n",
      "|[0.0, 28.79856681...|[WrappedArray(26....|\n",
      "+--------------------+--------------------+\n",
      "\n"
     ]
    }
   ],
   "source": [
    "df2.show"
   ]
  },
  {
   "cell_type": "markdown",
   "metadata": {},
   "source": [
    "# Example 3: 3D Matrix: Images\n",
    "__Schema Structure:__\n",
    "- `label` is the classificiation label\n",
    "- `image` is the 3D matrix. Visually, here is the actual pipeline and how the image looks like  if you draw it https://github.com/vkhristenko/jupyter-notebooks/blob/master/python/pipeline_features2image_reproducelocally.ipynb"
   ]
  },
  {
   "cell_type": "code",
   "execution_count": 13,
   "metadata": {},
   "outputs": [
    {
     "data": {
      "text/plain": [
       "df3 = [image: vector, label: int]\n"
      ]
     },
     "metadata": {},
     "output_type": "display_data"
    },
    {
     "data": {
      "text/plain": [
       "[image: vector, label: int]"
      ]
     },
     "execution_count": 13,
     "metadata": {},
     "output_type": "execute_result"
    }
   ],
   "source": [
    "val df3 = spark.read.parquet(\"file:/Users/vk/data/ML_MP_JR/parquet/fororacle/test_oracle_images\")"
   ]
  },
  {
   "cell_type": "code",
   "execution_count": 14,
   "metadata": {},
   "outputs": [
    {
     "name": "stdout",
     "output_type": "stream",
     "text": [
      "root\n",
      " |-- image: vector (nullable = true)\n",
      " |-- label: integer (nullable = true)\n",
      "\n"
     ]
    }
   ],
   "source": [
    "df3.printSchema"
   ]
  },
  {
   "cell_type": "code",
   "execution_count": 15,
   "metadata": {},
   "outputs": [
    {
     "name": "stdout",
     "output_type": "stream",
     "text": [
      "+--------------------+-----+\n",
      "|               image|label|\n",
      "+--------------------+-----+\n",
      "|[1.0,1.0,0.699999...|    0|\n",
      "|[1.0,1.0,0.699999...|    0|\n",
      "|[1.0,1.0,1.0,1.0,...|    0|\n",
      "|[1.0,1.0,1.0,1.0,...|    0|\n",
      "|[1.0,1.0,1.0,1.0,...|    0|\n",
      "|[1.0,1.0,1.0,1.0,...|    0|\n",
      "|[1.0,1.0,1.0,1.0,...|    0|\n",
      "|[1.0,1.0,1.0,1.0,...|    0|\n",
      "|[1.0,1.0,1.0,1.0,...|    0|\n",
      "|[1.0,1.0,1.0,1.0,...|    0|\n",
      "+--------------------+-----+\n",
      "\n"
     ]
    }
   ],
   "source": [
    "df3.show"
   ]
  },
  {
   "cell_type": "code",
   "execution_count": null,
   "metadata": {},
   "outputs": [],
   "source": []
  }
 ],
 "metadata": {
  "kernelspec": {
   "display_name": "Apache Toree - Scala",
   "language": "scala",
   "name": "apache_toree_scala"
  },
  "language_info": {
   "codemirror_mode": "text/x-scala",
   "file_extension": ".scala",
   "mimetype": "text/x-scala",
   "name": "scala",
   "pygments_lexer": "scala",
   "version": "2.11.8"
  }
 },
 "nbformat": 4,
 "nbformat_minor": 2
}
