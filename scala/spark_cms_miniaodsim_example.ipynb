{
 "cells": [
  {
   "cell_type": "markdown",
   "metadata": {},
   "source": [
    "# An example to ingest ROOT CMS data \n",
    "- To run jupyter notebook for Apache Toree: `SPARK_OPTS=\"--packages org.diana-hep:spark-root_2.11:0.1.15\" jupyter-notebook`"
   ]
  },
  {
   "cell_type": "code",
   "execution_count": 2,
   "metadata": {},
   "outputs": [],
   "source": [
    "import org.dianahep.sparkroot.experimental._"
   ]
  },
  {
   "cell_type": "markdown",
   "metadata": {},
   "source": [
    "## Read in the ROOT file\n",
    "- Do not print the Schema -> __it's huge!__"
   ]
  },
  {
   "cell_type": "code",
   "execution_count": 3,
   "metadata": {},
   "outputs": [
    {
     "data": {
      "text/plain": [
       "df = [EventAuxiliary: struct<processHistoryID_: struct<hash_: string>, id_: struct<run_: int, luminosityBlock_: int ... 1 more field> ... 8 more fields>, EventSelections: array<struct<hash_:string>> ... 65 more fields]\n"
      ]
     },
     "metadata": {},
     "output_type": "display_data"
    },
    {
     "data": {
      "text/plain": [
       "[EventAuxiliary: struct<processHistoryID_: struct<hash_: string>, id_: struct<run_: int, luminosityBlock_: int ... 1 more field> ... 8 more fields>, EventSelections: array<struct<hash_:string>> ... 65 more fields]"
      ]
     },
     "execution_count": 3,
     "metadata": {},
     "output_type": "execute_result"
    }
   ],
   "source": [
    "val df = spark.read.option(\"tree\", \"Events\").root(\"file:/Users/vk/data/cms/*.root\")"
   ]
  },
  {
   "cell_type": "markdown",
   "metadata": {},
   "source": [
    "## Select Muons \n",
    "- Select only momentum and position information\n",
    "- Will include PDG id and status\n",
    "- You need to include chi2 separately - possible just do not resolve down to the `m_state`"
   ]
  },
  {
   "cell_type": "code",
   "execution_count": 4,
   "metadata": {},
   "outputs": [
    {
     "data": {
      "text/plain": [
       "df_muons = [m_state: array<struct<vertex_:struct<fCoordinates:struct<fX:float,fY:float,fZ:float>>,p4Polar_:struct<fCoordinates:struct<fPt:float,fEta:float,fPhi:float,fM:float>>,qx3_:int,pdgId_:int,status_:int>>]\n"
      ]
     },
     "metadata": {},
     "output_type": "display_data"
    },
    {
     "data": {
      "text/plain": [
       "[m_state: array<struct<vertex_:struct<fCoordinates:struct<fX:float,fY:float,fZ:float>>,p4Polar_:struct<fCoordinates:struct<fPt:float,fEta:float,fPhi:float,fM:float>>,qx3_:int,pdgId_:int,status_:int>>]"
      ]
     },
     "execution_count": 4,
     "metadata": {},
     "output_type": "execute_result"
    }
   ],
   "source": [
    "val df_muons = df.select(\"patMuons_slimmedMuons__PAT_.patMuons_slimmedMuons__PAT_obj.m_state\")"
   ]
  },
  {
   "cell_type": "code",
   "execution_count": 5,
   "metadata": {},
   "outputs": [
    {
     "name": "stdout",
     "output_type": "stream",
     "text": [
      "root\n",
      " |-- m_state: array (nullable = true)\n",
      " |    |-- element: struct (containsNull = true)\n",
      " |    |    |-- vertex_: struct (nullable = true)\n",
      " |    |    |    |-- fCoordinates: struct (nullable = true)\n",
      " |    |    |    |    |-- fX: float (nullable = true)\n",
      " |    |    |    |    |-- fY: float (nullable = true)\n",
      " |    |    |    |    |-- fZ: float (nullable = true)\n",
      " |    |    |-- p4Polar_: struct (nullable = true)\n",
      " |    |    |    |-- fCoordinates: struct (nullable = true)\n",
      " |    |    |    |    |-- fPt: float (nullable = true)\n",
      " |    |    |    |    |-- fEta: float (nullable = true)\n",
      " |    |    |    |    |-- fPhi: float (nullable = true)\n",
      " |    |    |    |    |-- fM: float (nullable = true)\n",
      " |    |    |-- qx3_: integer (nullable = true)\n",
      " |    |    |-- pdgId_: integer (nullable = true)\n",
      " |    |    |-- status_: integer (nullable = true)\n",
      "\n"
     ]
    }
   ],
   "source": [
    "df_muons.printSchema"
   ]
  },
  {
   "cell_type": "markdown",
   "metadata": {},
   "source": [
    "## Generate Product Classes for easier Manipulation\n",
    "- This option is not pretty code-wise right now... \n",
    "- Generate Case Classes so that you can case Spark's Row objects into these classes\n",
    "- Will allow manipulation through the field resolution (e.g. `object.field`) just like in python... "
   ]
  },
  {
   "cell_type": "code",
   "execution_count": 7,
   "metadata": {},
   "outputs": [
    {
     "name": "stdout",
     "output_type": "stream",
     "text": [
      "\n",
      "case class Record2 (\n",
      "    fX : Float,\n",
      "    fY : Float,\n",
      "    fZ : Float\n",
      ")\n",
      "\n",
      "\n",
      "case class Record1 (\n",
      "    fCoordinates : Record2\n",
      ")\n",
      "\n",
      "\n",
      "case class Record4 (\n",
      "    fPt : Float,\n",
      "    fEta : Float,\n",
      "    fPhi : Float,\n",
      "    fM : Float\n",
      ")\n",
      "\n",
      "\n",
      "case class Record3 (\n",
      "    fCoordinates : Record4\n",
      ")\n",
      "\n",
      "\n",
      "case class Record0 (\n",
      "    vertex_ : Record1,\n",
      "    p4Polar_ : Record3,\n",
      "    qx3_ : Int,\n",
      "    pdgId_ : Int,\n",
      "    status_ : Int\n",
      ")\n",
      "\n",
      "\n",
      "case class Event (\n",
      "    m_state : Seq[Record0]\n",
      ")\n",
      "\n"
     ]
    },
    {
     "data": {
      "text/plain": [
       "queue = \n",
       "s = \n"
      ]
     },
     "metadata": {},
     "output_type": "display_data"
    },
    {
     "data": {
      "text/plain": [
       "Queue(\"\n",
       "\", \"\n",
       "\", \"\n",
       "\", \"\n",
       "\", \"\n",
       "\", \"\n",
       "\")\n",
       "\"\n",
       "    fCoordina...\n"
      ]
     },
     "metadata": {},
     "output_type": "display_data"
    },
    {
     "data": {
      "text/plain": [
       "\n",
       "case class Record2 (\n",
       "    fX : Float,\n",
       "    fY : Float,\n",
       "    fZ : Float\n",
       ")\n",
       "\n",
       "\n",
       "case class Record1 (\n",
       "    fCoordinates : Record2\n",
       ")\n",
       "\n",
       "\n",
       "case class Record4 (\n",
       "    fPt : Float,\n",
       "    fEta : Float,\n",
       "    fPhi : Float,\n",
       "    fM : Float\n",
       ")\n",
       "\n",
       "\n",
       "case class Record3 (\n",
       "    fCoordinates : Record4\n",
       ")\n",
       "\n",
       "\n",
       "case class Record0 (\n",
       "    vertex_ : Record1,\n",
       "    p4Polar_ : Record3,\n",
       "    qx3_ : Int,\n",
       "    pdgId_ : Int,\n",
       "    status_ : Int\n",
       ")\n",
       "\n",
       "\n",
       "case class Event (\n",
       "    m_state : Seq[Record0]\n",
       ")\n"
      ]
     },
     "execution_count": 7,
     "metadata": {},
     "output_type": "execute_result"
    }
   ],
   "source": [
    "import codegen._\n",
    "val queue = df_muons.schema.codeGen(\"Event\")\n",
    "val s = queue.mkString(\"\\n\")\n",
    "println(s)"
   ]
  },
  {
   "cell_type": "code",
   "execution_count": 8,
   "metadata": {},
   "outputs": [
    {
     "data": {
      "text/plain": [
       "defined class Record2\n",
       "defined class Record1\n",
       "defined class Record4\n",
       "defined class Record3\n",
       "defined class Record0\n",
       "defined class Event\n"
      ]
     },
     "metadata": {},
     "output_type": "display_data"
    }
   ],
   "source": [
    "case class Record2 (\n",
    "    fX : Float,\n",
    "    fY : Float,\n",
    "    fZ : Float\n",
    ")\n",
    "\n",
    "\n",
    "case class Record1 (\n",
    "    fCoordinates : Record2\n",
    ")\n",
    "\n",
    "\n",
    "case class Record4 (\n",
    "    fPt : Float,\n",
    "    fEta : Float,\n",
    "    fPhi : Float,\n",
    "    fM : Float\n",
    ")\n",
    "\n",
    "\n",
    "case class Record3 (\n",
    "    fCoordinates : Record4\n",
    ")\n",
    "\n",
    "\n",
    "case class Record0 (\n",
    "    vertex_ : Record1,\n",
    "    p4Polar_ : Record3,\n",
    "    qx3_ : Int,\n",
    "    pdgId_ : Int,\n",
    "    status_ : Int\n",
    ")\n",
    "\n",
    "\n",
    "case class Event (\n",
    "    m_state : Seq[Record0]\n",
    ")\n"
   ]
  },
  {
   "cell_type": "markdown",
   "metadata": {},
   "source": [
    "## Manipulate your data"
   ]
  },
  {
   "cell_type": "code",
   "execution_count": 10,
   "metadata": {},
   "outputs": [
    {
     "name": "stdout",
     "output_type": "stream",
     "text": [
      "+--------------------+\n",
      "|             m_state|\n",
      "+--------------------+\n",
      "|[[[[0.16862841,0....|\n",
      "|[[[[0.10406262,0....|\n",
      "|[[[[0.10817633,0....|\n",
      "|[[[[0.10356494,0....|\n",
      "|[[[[0.10073657,0....|\n",
      "|[[[[0.10944145,0....|\n",
      "|[[[[0.11222846,0....|\n",
      "|[[[[0.10781129,0....|\n",
      "|[[[[0.10165176,0....|\n",
      "|[[[[0.1002845,0.1...|\n",
      "|                  []|\n",
      "|[[[[0.09750543,0....|\n",
      "|                  []|\n",
      "|[[[[0.10538159,0....|\n",
      "|[[[[0.12014926,0....|\n",
      "|[[[[-0.0053656413...|\n",
      "|[[[[0.10457884,0....|\n",
      "|[[[[0.10495199,0....|\n",
      "|[[[[0.106314346,0...|\n",
      "|[[[[0.10803154,0....|\n",
      "+--------------------+\n",
      "only showing top 20 rows\n",
      "\n"
     ]
    },
    {
     "data": {
      "text/plain": [
       "ds_muons = [m_state: array<struct<vertex_:struct<fCoordinates:struct<fX:float,fY:float,fZ:float>>,p4Polar_:struct<fCoordinates:struct<fPt:float,fEta:float,fPhi:float,fM:float>>,qx3_:int,pdgId_:int,status_:int>>]\n"
      ]
     },
     "metadata": {},
     "output_type": "display_data"
    },
    {
     "data": {
      "text/plain": [
       "[m_state: array<struct<vertex_:struct<fCoordinates:struct<fX:float,fY:float,fZ:float>>,p4Polar_:struct<fCoordinates:struct<fPt:float,fEta:float,fPhi:float,fM:float>>,qx3_:int,pdgId_:int,status_:int>>]"
      ]
     },
     "execution_count": 10,
     "metadata": {},
     "output_type": "execute_result"
    }
   ],
   "source": [
    "val ds_muons = df_muons.as[Event]\n",
    "ds_muons.show"
   ]
  },
  {
   "cell_type": "code",
   "execution_count": 11,
   "metadata": {},
   "outputs": [
    {
     "name": "stdout",
     "output_type": "stream",
     "text": [
      "+-----+\n",
      "|value|\n",
      "+-----+\n",
      "|    5|\n",
      "|    4|\n",
      "|    3|\n",
      "|    3|\n",
      "|    1|\n",
      "|    2|\n",
      "|    1|\n",
      "|    1|\n",
      "|    1|\n",
      "|    3|\n",
      "|    0|\n",
      "|    4|\n",
      "|    0|\n",
      "|    3|\n",
      "|    2|\n",
      "|    2|\n",
      "|    4|\n",
      "|    4|\n",
      "|    2|\n",
      "|    1|\n",
      "+-----+\n",
      "only showing top 20 rows\n",
      "\n"
     ]
    }
   ],
   "source": [
    "ds_muons.map({case event => event.m_state.size}).show"
   ]
  },
  {
   "cell_type": "code",
   "execution_count": null,
   "metadata": {},
   "outputs": [],
   "source": []
  }
 ],
 "metadata": {
  "kernelspec": {
   "display_name": "Apache Toree - Scala",
   "language": "scala",
   "name": "apache_toree_scala"
  },
  "language_info": {
   "codemirror_mode": "text/x-scala",
   "file_extension": ".scala",
   "mimetype": "text/x-scala",
   "name": "scala",
   "pygments_lexer": "scala",
   "version": "2.11.8"
  }
 },
 "nbformat": 4,
 "nbformat_minor": 2
}
